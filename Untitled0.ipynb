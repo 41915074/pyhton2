{
  "nbformat": 4,
  "nbformat_minor": 0,
  "metadata": {
    "colab": {
      "provenance": [],
      "authorship_tag": "ABX9TyP6qmBoGqb5K5LWoHaf8z1a",
      "include_colab_link": true
    },
    "kernelspec": {
      "name": "python3",
      "display_name": "Python 3"
    },
    "language_info": {
      "name": "python"
    }
  },
  "cells": [
    {
      "cell_type": "markdown",
      "metadata": {
        "id": "view-in-github",
        "colab_type": "text"
      },
      "source": [
        "<a href=\"https://colab.research.google.com/github/41915074/python2/blob/main/Untitled0.ipynb\" target=\"_parent\"><img src=\"https://colab.research.google.com/assets/colab-badge.svg\" alt=\"Open In Colab\"/></a>"
      ]
    },
    {
      "cell_type": "code",
      "execution_count": null,
      "metadata": {
        "id": "4VTk9r1ZiEHk"
      },
      "outputs": [],
      "source": []
    },
    {
      "cell_type": "markdown",
      "source": [
        "CH1. 파이썬 문법\n",
        "**자료형**\n",
        " * 점수 : 123, 456, 0, -30\n",
        " * 실수 : 12.345, -987,65, 0.7e6\n",
        " * 8진수 : Oo765, Oo123\n",
        " * 진수 :0xOD, 0xOA, 0xFF\n",
        "\n",
        "**숫자형**\n",
        "\n",
        " * 문자 또는 밑줄로 시작 (_YOUNG, alpha)\n",
        " * 대소문자 구분(sum, Sum, SUM)\n",
        " * 영문자, 숫자, 밑줄(A-z, 0-9, _) ex) sun_9, Alpha, s9n,\n",
        " * 파이썬 키워드 (print....)\n",
        "\n",
        "**변수**\n",
        "\n",
        "* 문자 또는 밑줄로 시작 (_YOUNG, alpha)\n",
        "* 대소문자 구분(sum, Sum, SUM)\n",
        "* 영문자, 숫자, 밑줄(A-z, 0-9, _) ex) sun_9, Alpha, s9n,\n",
        "* 파이썬 키워드 (print....)\n",
        "\n",
        "**표기법**\n",
        "\n",
        "* 카멜(낙타) : myNAME\n",
        "* 스네이크(뱀) : my_name\n",
        "* 파스칼 : myName\n"
      ],
      "metadata": {
        "id": "odAvDGWKk0gg"
      }
    },
    {
      "cell_type": "code",
      "source": [
        "a = 10\n",
        "b = 20\n",
        "f = \"10\"\n",
        "c = a +b\n",
        "print(a,b,c,f)"
      ],
      "metadata": {
        "colab": {
          "base_uri": "https://localhost:8080/"
        },
        "id": "QwLLEXo_lmYM",
        "outputId": "e2e6c85e-cbd0-4bb6-e5d2-b915c068e84b"
      },
      "execution_count": 2,
      "outputs": [
        {
          "output_type": "stream",
          "name": "stdout",
          "text": [
            "10 20 30 10\n"
          ]
        }
      ]
    },
    {
      "cell_type": "code",
      "source": [
        "a = 10\n",
        "b = 20\n",
        "c = \"10\"\n",
        "d = \"20\"\n",
        "print(a+b)\n",
        "print(a,b)\n",
        "print(type(a))\n",
        "print(type(c))\n",
        "print(c+d)\n",
        "print(c,d)"
      ],
      "metadata": {
        "colab": {
          "base_uri": "https://localhost:8080/"
        },
        "id": "O02l0uoymA5F",
        "outputId": "5d16d248-cf53-4f38-dac2-3bdddd73743f"
      },
      "execution_count": 4,
      "outputs": [
        {
          "output_type": "stream",
          "name": "stdout",
          "text": [
            "30\n",
            "10 20\n",
            "<class 'int'>\n",
            "<class 'str'>\n",
            "1020\n",
            "10 20\n"
          ]
        }
      ]
    },
    {
      "cell_type": "markdown",
      "source": [
        "#나눗셈"
      ],
      "metadata": {
        "id": "ygkZhiJtvjl6"
      }
    },
    {
      "cell_type": "code",
      "source": [
        " a = 10\n",
        " b= 3\n",
        " c= a/b\n",
        " d= a // b #몫\n",
        " e= a % b  #나머지\n",
        " print(c,d,e)\n",
        " "
      ],
      "metadata": {
        "colab": {
          "base_uri": "https://localhost:8080/"
        },
        "id": "tRro5PxIqW6-",
        "outputId": "d6b8c4bf-9774-4a0a-99fa-1ce7e4ec4989"
      },
      "execution_count": 19,
      "outputs": [
        {
          "output_type": "stream",
          "name": "stdout",
          "text": [
            "3.3333333333333335 3 1\n"
          ]
        }
      ]
    },
    {
      "cell_type": "markdown",
      "source": [
        "#곱셈"
      ],
      "metadata": {
        "id": "WOL1XxDyvqg6"
      }
    },
    {
      "cell_type": "code",
      "source": [
        " a=10\n",
        " b = 2\n",
        " c = a * b # 곱하기\n",
        " d= a**b #제곱\n",
        " print(c,d)"
      ],
      "metadata": {
        "colab": {
          "base_uri": "https://localhost:8080/"
        },
        "id": "vEe4ApR9rJfH",
        "outputId": "043a85f0-2f17-4eb4-fd35-adac00d35d5d"
      },
      "execution_count": 20,
      "outputs": [
        {
          "output_type": "stream",
          "name": "stdout",
          "text": [
            "20 100\n"
          ]
        }
      ]
    },
    {
      "cell_type": "markdown",
      "source": [
        "#### 문자열\n",
        "1. 큰따음표 : \"Lang Choi\"\n",
        "2. 작은 따음표 : 'Lang Choi'\n",
        "3. 큰따음표 3개 : \"\"\"대한민국\"\"\"\n",
        "4. 작은따음표 3개 : '''대한민국'''\n",
        "5. \"동해물과 백두산이 마르고 닳도록\n",
        " Choi's\"\n"
      ],
      "metadata": {
        "id": "O-J0UpmsrkA6"
      }
    },
    {
      "cell_type": "markdown",
      "source": [
        "#변수"
      ],
      "metadata": {
        "id": "Os0hOC77vxVQ"
      }
    },
    {
      "cell_type": "code",
      "source": [
        " myName = \"Choi young jun\"\n",
        " my_name = \" 최영준 \"\n",
        " _my_name = \"korea\"\n",
        " MYNAME= \"코리아\"\n",
        " my2name = \"kikiki\"\n",
        "# 2myname = \"하하하\"\n",
        "# my-name = \"가나다라\"\n",
        "# my name = \"스페이스\"\n",
        " myName1= 1234\n",
        " myName2 = \"1234\"\n",
        " print (type( myName1 ))\n",
        " print (type( myName2 ))\n"
      ],
      "metadata": {
        "colab": {
          "base_uri": "https://localhost:8080/"
        },
        "id": "ILrcxvvrtREX",
        "outputId": "6aaeee5b-be47-4d2c-e0ec-eab92dac6522"
      },
      "execution_count": 30,
      "outputs": [
        {
          "output_type": "stream",
          "name": "stdout",
          "text": [
            "<class 'int'>\n",
            "<class 'str'>\n"
          ]
        }
      ]
    },
    {
      "cell_type": "markdown",
      "source": [
        "#### 변수할당\n"
      ],
      "metadata": {
        "id": "pvgw57lKuugi"
      }
    },
    {
      "cell_type": "code",
      "source": [
        " a=b=c= \"브라보콘\"\n",
        " print(a)\n",
        " print(b)\n",
        " print(c)\n",
        " "
      ],
      "metadata": {
        "colab": {
          "base_uri": "https://localhost:8080/"
        },
        "id": "Yu1ujGLXu4De",
        "outputId": "ca052955-bdb3-4b24-9f3b-bf2b5156dd98"
      },
      "execution_count": 14,
      "outputs": [
        {
          "output_type": "stream",
          "name": "stdout",
          "text": [
            "브라보콘\n",
            "브라보콘\n",
            "브라보콘\n"
          ]
        }
      ]
    },
    {
      "cell_type": "code",
      "source": [
        "x,y,z = \"딸기\",\"포도\",\"바나나\"\n",
        "print(x)\n",
        "print(y)\n",
        "print(z)"
      ],
      "metadata": {
        "colab": {
          "base_uri": "https://localhost:8080/"
        },
        "id": "kVk-Ciq9vJrG",
        "outputId": "828b6221-afdf-4426-abc9-a8d0b1515777"
      },
      "execution_count": 18,
      "outputs": [
        {
          "output_type": "stream",
          "name": "stdout",
          "text": [
            "딸기\n",
            "포도\n",
            "바나나\n"
          ]
        }
      ]
    },
    {
      "cell_type": "code",
      "source": [
        "fruits = [\"누가바\",\"쌍쌍바\", \"보석바\"]\n",
        "x,y,z = fruits\n",
        "print(x)\n",
        "print(y)\n",
        "print(z)"
      ],
      "metadata": {
        "colab": {
          "base_uri": "https://localhost:8080/"
        },
        "id": "aytLYYwov1tz",
        "outputId": "a59248b6-6be5-4bea-e4c1-138b4adc5fbb"
      },
      "execution_count": 23,
      "outputs": [
        {
          "output_type": "stream",
          "name": "stdout",
          "text": [
            "누가바\n",
            "쌍쌍바\n",
            "보석바\n"
          ]
        }
      ]
    },
    {
      "cell_type": "code",
      "source": [
        "x =\"Life\"\n",
        "y =\"is\"\n",
        "z =\"beautifull!\"\n",
        "print(x,y,z,)\n",
        "print(x+y+z)"
      ],
      "metadata": {
        "colab": {
          "base_uri": "https://localhost:8080/"
        },
        "id": "a1C2xjCYwd7e",
        "outputId": "3a093396-03a8-4a24-a61e-20eb65d2af2d"
      },
      "execution_count": 27,
      "outputs": [
        {
          "output_type": "stream",
          "name": "stdout",
          "text": [
            "Life is beautifull!\n",
            "Lifeisbeautifull!\n"
          ]
        }
      ]
    },
    {
      "cell_type": "code",
      "source": [
        "a =\"1\"\n",
        "b =\"2\"\n",
        "c =\"3\"\n",
        "print(a,b,c,)\n",
        "print(a+b+c)"
      ],
      "metadata": {
        "colab": {
          "base_uri": "https://localhost:8080/"
        },
        "id": "K65QOInCxGpH",
        "outputId": "af791e5c-b1b8-4b9e-f05b-c26b5768ca77"
      },
      "execution_count": 29,
      "outputs": [
        {
          "output_type": "stream",
          "name": "stdout",
          "text": [
            "1 2 3\n",
            "123\n"
          ]
        }
      ]
    }
  ]
}