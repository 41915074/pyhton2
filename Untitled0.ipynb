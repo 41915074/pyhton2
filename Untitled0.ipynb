{
  "nbformat": 4,
  "nbformat_minor": 0,
  "metadata": {
    "colab": {
      "provenance": [],
      "authorship_tag": "ABX9TyOww5ljgrBubHsD/2FV1q5C",
      "include_colab_link": true
    },
    "kernelspec": {
      "name": "python3",
      "display_name": "Python 3"
    },
    "language_info": {
      "name": "python"
    }
  },
  "cells": [
    {
      "cell_type": "markdown",
      "metadata": {
        "id": "view-in-github",
        "colab_type": "text"
      },
      "source": [
        "<a href=\"https://colab.research.google.com/github/41915074/python/blob/main/Untitled0.ipynb\" target=\"_parent\"><img src=\"https://colab.research.google.com/assets/colab-badge.svg\" alt=\"Open In Colab\"/></a>"
      ]
    },
    {
      "cell_type": "code",
      "execution_count": null,
      "metadata": {
        "id": "4VTk9r1ZiEHk"
      },
      "outputs": [],
      "source": []
    },
    {
      "cell_type": "markdown",
      "source": [
        "CH1. 파이썬 문법\n",
        "**자료형**\n",
        " * 점수 : 123, 456, 0, -30\n",
        " * 실수 : 12.345, -987,65, 0.7e6\n",
        " * 8진수 : Oo765, Oo123\n",
        " * 진수 :0xOD, 0xOA, 0xFF\n",
        "\n",
        "**숫자형**\n",
        "\n",
        " * 문자 또는 밑줄로 시작 (_YOUNG, alpha)\n",
        " * 대소문자 구분(sum, Sum, SUM)\n",
        " * 영문자, 숫자, 밑줄(A-z, 0-9, _) ex) sun_9, Alpha, s9n,\n",
        " * 파이썬 키워드 (print....)\n",
        "\n",
        "**변수**\n",
        "\n",
        "* 문자 또는 밑줄로 시작 (_YOUNG, alpha)\n",
        "* 대소문자 구분(sum, Sum, SUM)\n",
        "* 영문자, 숫자, 밑줄(A-z, 0-9, _) ex) sun_9, Alpha, s9n,\n",
        "* 파이썬 키워드 (print....)\n",
        "\n",
        "**표기법**\n",
        "\n",
        "* 카멜(낙타) : myNAME\n",
        "* 스네이크(뱀) : my_name\n",
        "* 파스칼 : myName\n"
      ],
      "metadata": {
        "id": "odAvDGWKk0gg"
      }
    },
    {
      "cell_type": "code",
      "source": [
        "a = 10\n",
        "b = 20\n",
        "f = \"10\"\n",
        "c = a +b\n",
        "print(a,b,c,f)"
      ],
      "metadata": {
        "colab": {
          "base_uri": "https://localhost:8080/"
        },
        "id": "QwLLEXo_lmYM",
        "outputId": "e2e6c85e-cbd0-4bb6-e5d2-b915c068e84b"
      },
      "execution_count": null,
      "outputs": [
        {
          "output_type": "stream",
          "name": "stdout",
          "text": [
            "10 20 30 10\n"
          ]
        }
      ]
    },
    {
      "cell_type": "code",
      "source": [
        "a = 10\n",
        "b = 20\n",
        "c = \"10\"\n",
        "d = \"20\"\n",
        "print(a+b)\n",
        "print(a,b)\n",
        "print(type(a))\n",
        "print(type(c))\n",
        "print(c+d)\n",
        "print(c,d)"
      ],
      "metadata": {
        "colab": {
          "base_uri": "https://localhost:8080/"
        },
        "id": "O02l0uoymA5F",
        "outputId": "5d16d248-cf53-4f38-dac2-3bdddd73743f"
      },
      "execution_count": null,
      "outputs": [
        {
          "output_type": "stream",
          "name": "stdout",
          "text": [
            "30\n",
            "10 20\n",
            "<class 'int'>\n",
            "<class 'str'>\n",
            "1020\n",
            "10 20\n"
          ]
        }
      ]
    },
    {
      "cell_type": "markdown",
      "source": [
        "#나눗셈"
      ],
      "metadata": {
        "id": "ygkZhiJtvjl6"
      }
    },
    {
      "cell_type": "code",
      "source": [
        " a = 10\n",
        " b= 3\n",
        " c= a/b\n",
        " d= a // b #몫\n",
        " e= a % b  #나머지\n",
        " print(c,d,e)\n",
        " "
      ],
      "metadata": {
        "colab": {
          "base_uri": "https://localhost:8080/"
        },
        "id": "tRro5PxIqW6-",
        "outputId": "e953cd7f-0b0c-4205-face-62e2164f75df"
      },
      "execution_count": null,
      "outputs": [
        {
          "output_type": "stream",
          "name": "stdout",
          "text": [
            "3.3333333333333335 3 1\n"
          ]
        }
      ]
    },
    {
      "cell_type": "markdown",
      "source": [
        "#곱셈"
      ],
      "metadata": {
        "id": "WOL1XxDyvqg6"
      }
    },
    {
      "cell_type": "code",
      "source": [
        " a=10\n",
        " b = 2\n",
        " c = a * b # 곱하기\n",
        " d= a**b #제곱\n",
        " print(c,d)"
      ],
      "metadata": {
        "colab": {
          "base_uri": "https://localhost:8080/"
        },
        "id": "vEe4ApR9rJfH",
        "outputId": "043a85f0-2f17-4eb4-fd35-adac00d35d5d"
      },
      "execution_count": null,
      "outputs": [
        {
          "output_type": "stream",
          "name": "stdout",
          "text": [
            "20 100\n"
          ]
        }
      ]
    },
    {
      "cell_type": "markdown",
      "source": [
        "#### 문자열\n",
        "1. 큰따음표 : \"Lang Choi\"\n",
        "2. 작은 따음표 : 'Lang Choi'\n",
        "3. 큰따음표 3개 : \"\"\"대한민국\"\"\"\n",
        "4. 작은따음표 3개 : '''대한민국'''\n",
        "5. \"동해물과 백두산이 마르고 닳도록\n",
        " Choi's\"\n"
      ],
      "metadata": {
        "id": "O-J0UpmsrkA6"
      }
    },
    {
      "cell_type": "markdown",
      "source": [
        "#변수"
      ],
      "metadata": {
        "id": "Os0hOC77vxVQ"
      }
    },
    {
      "cell_type": "code",
      "source": [
        " myName = \"Choi young jun\"\n",
        " my_name = \" 최영준 \"\n",
        " _my_name = \"korea\"\n",
        " MYNAME= \"코리아\"\n",
        " my2name = \"kikiki\"\n",
        "# 2myname = \"하하하\"\n",
        "# my-name = \"가나다라\"\n",
        "# my name = \"스페이스\"\n",
        " myName1= 1234\n",
        " myName2 = \"1234\"\n",
        " print (type( myName1 ))\n",
        " print (type( myName2 ))\n"
      ],
      "metadata": {
        "colab": {
          "base_uri": "https://localhost:8080/"
        },
        "id": "ILrcxvvrtREX",
        "outputId": "6aaeee5b-be47-4d2c-e0ec-eab92dac6522"
      },
      "execution_count": null,
      "outputs": [
        {
          "output_type": "stream",
          "name": "stdout",
          "text": [
            "<class 'int'>\n",
            "<class 'str'>\n"
          ]
        }
      ]
    },
    {
      "cell_type": "markdown",
      "source": [
        "#### 변수할당\n"
      ],
      "metadata": {
        "id": "pvgw57lKuugi"
      }
    },
    {
      "cell_type": "code",
      "source": [
        " a=b=c= \"브라보콘\"\n",
        " print(a)\n",
        " print(b)\n",
        " print(c)\n",
        " "
      ],
      "metadata": {
        "colab": {
          "base_uri": "https://localhost:8080/"
        },
        "id": "Yu1ujGLXu4De",
        "outputId": "ca052955-bdb3-4b24-9f3b-bf2b5156dd98"
      },
      "execution_count": null,
      "outputs": [
        {
          "output_type": "stream",
          "name": "stdout",
          "text": [
            "브라보콘\n",
            "브라보콘\n",
            "브라보콘\n"
          ]
        }
      ]
    },
    {
      "cell_type": "code",
      "source": [
        "x,y,z = \"딸기\",\"포도\",\"바나나\"\n",
        "print(x)\n",
        "print(y)\n",
        "print(z)"
      ],
      "metadata": {
        "colab": {
          "base_uri": "https://localhost:8080/"
        },
        "id": "kVk-Ciq9vJrG",
        "outputId": "39242b79-3751-412b-f001-599603744d5f"
      },
      "execution_count": null,
      "outputs": [
        {
          "output_type": "stream",
          "name": "stdout",
          "text": [
            "딸기\n",
            "포도\n",
            "바나나\n"
          ]
        }
      ]
    },
    {
      "cell_type": "code",
      "source": [
        "fruits = [\"누가바\",\"쌍쌍바\", \"보석바\"]\n",
        "x,y,z = fruits\n",
        "print(x)\n",
        "print(y)\n",
        "print(z)"
      ],
      "metadata": {
        "colab": {
          "base_uri": "https://localhost:8080/"
        },
        "id": "aytLYYwov1tz",
        "outputId": "a59248b6-6be5-4bea-e4c1-138b4adc5fbb"
      },
      "execution_count": null,
      "outputs": [
        {
          "output_type": "stream",
          "name": "stdout",
          "text": [
            "누가바\n",
            "쌍쌍바\n",
            "보석바\n"
          ]
        }
      ]
    },
    {
      "cell_type": "code",
      "source": [
        "x =\"Life\"\n",
        "y =\"is\"\n",
        "z =\"beautifull!\"\n",
        "print(x,y,z,)\n",
        "print(x+y+z)"
      ],
      "metadata": {
        "colab": {
          "base_uri": "https://localhost:8080/"
        },
        "id": "a1C2xjCYwd7e",
        "outputId": "3a093396-03a8-4a24-a61e-20eb65d2af2d"
      },
      "execution_count": null,
      "outputs": [
        {
          "output_type": "stream",
          "name": "stdout",
          "text": [
            "Life is beautifull!\n",
            "Lifeisbeautifull!\n"
          ]
        }
      ]
    },
    {
      "cell_type": "code",
      "source": [
        "a =\"1\"\n",
        "b =\"2\"\n",
        "c =\"3\"\n",
        "print(a,b,c,)\n",
        "print(a+b+c)\n",
        "\n",
        "e= 5\n",
        "f=6 \n",
        "print(e+f)"
      ],
      "metadata": {
        "colab": {
          "base_uri": "https://localhost:8080/"
        },
        "id": "K65QOInCxGpH",
        "outputId": "aa46b470-973b-4ba2-9ad8-137f471b912e"
      },
      "execution_count": null,
      "outputs": [
        {
          "output_type": "stream",
          "name": "stdout",
          "text": [
            "1 2 3\n",
            "123\n",
            "11\n"
          ]
        }
      ]
    },
    {
      "cell_type": "markdown",
      "source": [
        "데이터 바꾸기"
      ],
      "metadata": {
        "id": "BUHAyu3k75ha"
      }
    },
    {
      "cell_type": "code",
      "source": [
        "  a = 1;b = 2\n",
        "  a,b =  b,a\n",
        "  print(a,b)"
      ],
      "metadata": {
        "colab": {
          "base_uri": "https://localhost:8080/"
        },
        "id": "3ssByzhs79J3",
        "outputId": "c49a746a-befd-4152-cf1c-11fd80a18c20"
      },
      "execution_count": null,
      "outputs": [
        {
          "output_type": "stream",
          "name": "stdout",
          "text": [
            "2 1\n"
          ]
        }
      ]
    },
    {
      "cell_type": "code",
      "source": [
        "b=2;c =3\n",
        "#c= (b=b+c)#error"
      ],
      "metadata": {
        "id": "TTR-avq88U9y"
      },
      "execution_count": null,
      "outputs": []
    },
    {
      "cell_type": "code",
      "source": [
        "a=1;b=2;c=3\n",
        "f=a+b+\\\n",
        "c\n",
        "print(f)"
      ],
      "metadata": {
        "colab": {
          "base_uri": "https://localhost:8080/"
        },
        "id": "qMOM-6zC8mNC",
        "outputId": "320ea06a-e922-4ee1-933a-1c91846e5fbe"
      },
      "execution_count": null,
      "outputs": [
        {
          "output_type": "stream",
          "name": "stdout",
          "text": [
            "6\n"
          ]
        }
      ]
    },
    {
      "cell_type": "code",
      "source": [
        " # len()\n",
        " a=\"123456\"\n",
        " b=[2,3,4,5]\n",
        " print(len(a))\n",
        " print(len(b))"
      ],
      "metadata": {
        "colab": {
          "base_uri": "https://localhost:8080/"
        },
        "id": "2l2L4VSa88wX",
        "outputId": "d5f51000-c7c0-4f04-ce46-a078d66ba4c2"
      },
      "execution_count": null,
      "outputs": [
        {
          "output_type": "stream",
          "name": "stdout",
          "text": [
            "6\n",
            "4\n"
          ]
        }
      ]
    },
    {
      "cell_type": "markdown",
      "source": [
        "계산기"
      ],
      "metadata": {
        "id": "vD3bXGaR9buG"
      }
    },
    {
      "cell_type": "code",
      "source": [
        " a=100\n",
        " b=200\n",
        " result =a+b\n",
        " print(a,'+',b,'=',result)\n",
        " result= a - b\n",
        " print(a,'-',b,'=',result)\n",
        " result= a / b\n",
        " print(a,'/',b,'=',result)\n",
        " result= a * b\n",
        " print(a,'*',b,'=',result)"
      ],
      "metadata": {
        "colab": {
          "base_uri": "https://localhost:8080/"
        },
        "id": "Sf3DiV3W9dt4",
        "outputId": "3c7b9318-be32-4dc3-ec11-77a3805b3afc"
      },
      "execution_count": null,
      "outputs": [
        {
          "output_type": "stream",
          "name": "stdout",
          "text": [
            "100 + 200 = 300\n",
            "100 - 200 = -100\n",
            "100 / 200 = 0.5\n",
            "100 * 200 = 20000\n"
          ]
        }
      ]
    },
    {
      "cell_type": "code",
      "source": [
        "a = \"1234\"\n",
        "b = 5678\n",
        "c = int(a)+b\n",
        "print(c)"
      ],
      "metadata": {
        "colab": {
          "base_uri": "https://localhost:8080/"
        },
        "id": "DCo3ingfAntL",
        "outputId": "dfa0ba9e-f3f6-4846-a48e-c56ec127ef99"
      },
      "execution_count": null,
      "outputs": [
        {
          "output_type": "stream",
          "name": "stdout",
          "text": [
            "6912\n"
          ]
        }
      ]
    },
    {
      "cell_type": "code",
      "source": [
        "# 계산기 2\n",
        "num1 = int(input(\"숫자입력1: \"))\n",
        "num2 = int(input(\"숫자입력2: \"))\n",
        "print(type(num1))\n",
        "result = num1 + num2\n",
        "print(result)"
      ],
      "metadata": {
        "colab": {
          "base_uri": "https://localhost:8080/"
        },
        "id": "D2tspebsA_lH",
        "outputId": "773776c0-cfb1-4d2a-c9b2-77067592a7fc"
      },
      "execution_count": null,
      "outputs": [
        {
          "output_type": "stream",
          "name": "stdout",
          "text": [
            "숫자입력1: 1\n",
            "숫자입력2: 2\n",
            "<class 'int'>\n",
            "3\n"
          ]
        }
      ]
    },
    {
      "cell_type": "code",
      "source": [
        "num1 = int(input(\"숫자입력1: \"))\n",
        "num2 = int(input(\"숫자입력2:\"))\n",
        "a=int(num1)\n",
        "b=int(num2)\n",
        "result = a + b\n",
        "print(a,'+',b,'=',result)\n",
        "result= a - b\n",
        "print(a,'-',b,'=',result)\n",
        "result= a / b\n",
        "print(a,'/',b,'=',result)\n",
        "result= a * b\n",
        "print(a,'*',b,'=',result)"
      ],
      "metadata": {
        "colab": {
          "base_uri": "https://localhost:8080/"
        },
        "id": "AgtT0xmYB-1c",
        "outputId": "9636de77-454f-4bef-8e73-145d7a07b8f8"
      },
      "execution_count": null,
      "outputs": [
        {
          "output_type": "stream",
          "name": "stdout",
          "text": [
            "숫자입력1: 1\n",
            "숫자입력2:1\n",
            "1 + 1 = 2\n",
            "1 - 1 = 0\n",
            "1 / 1 = 1.0\n",
            "1 * 1 = 1\n"
          ]
        }
      ]
    },
    {
      "cell_type": "code",
      "source": [
        "#자기이름, 전화번호, 택배 x 100\n",
        "name = input(\"이름: \")\n",
        "result = name\n",
        "number = input(\"전화번호: \")\n",
        "result = number\n",
        "num1 = input(\"택배(g)x100: \")\n",
        "a = int(num1)\n",
        "result =int(num1)*100  \n",
        "print(\"결과값 =\", a,\"X 100원 =\",result,\"원 입니다.\")\n"
      ],
      "metadata": {
        "colab": {
          "base_uri": "https://localhost:8080/"
        },
        "id": "3SmesRcJKLz8",
        "outputId": "a57b068a-2c51-4388-c56e-2a4273471cdc"
      },
      "execution_count": null,
      "outputs": [
        {
          "output_type": "stream",
          "name": "stdout",
          "text": [
            "이름: 최영준\n",
            "전화번호: 01046089209\n",
            "택배(g)x100: 5000\n",
            "결과값 = 5000 X 100원 = 500000 원 입니다.\n"
          ]
        }
      ]
    },
    {
      "cell_type": "markdown",
      "source": [
        "#CH.2 서식 출력 print()"
      ],
      "metadata": {
        "id": "Y-VRCAvNiZAu"
      }
    },
    {
      "cell_type": "code",
      "source": [
        "print(\"%d\" % 123)\n",
        "print(\"%5d\" % 123)\n",
        "print(\"%05d\" % 123)\n",
        "\n",
        "print(\"%f\" % 123.45)\n",
        "print(\"%7.1f\" % 123.45)\n",
        "print(\"%7.3f\" % 123.45)\n",
        "\n",
        "print(\"%c\" % \"1\")\n",
        "print(\"%s\" % \"가나다라\")\n",
        "print(\"%6s\" % \"가나다라\")\n",
        "print(\"%6s\" % \"abcd\")"
      ],
      "metadata": {
        "id": "EbxrTbXTifBW",
        "outputId": "2160e3c5-e718-404c-afe6-635f87d1ebf8",
        "colab": {
          "base_uri": "https://localhost:8080/"
        }
      },
      "execution_count": null,
      "outputs": [
        {
          "output_type": "stream",
          "name": "stdout",
          "text": [
            "123\n",
            "  123\n",
            "00123\n",
            "123.450000\n",
            "  123.5\n",
            "123.450\n",
            "1\n",
            "가나다라\n",
            "  가나다라\n",
            "  abcd\n"
          ]
        }
      ]
    },
    {
      "cell_type": "markdown",
      "source": [
        "#### 순서 지정 기능 : format"
      ],
      "metadata": {
        "id": "YJUNlhUvkN86"
      }
    },
    {
      "cell_type": "code",
      "source": [
        "print(\"{0:d},{1:5d},{2:05d}\".format(123,456,789))"
      ],
      "metadata": {
        "id": "tLaD3Y5SkUzu",
        "outputId": "5ec0edbd-fd8e-46dc-a29f-44edf81bd39f",
        "colab": {
          "base_uri": "https://localhost:8080/"
        }
      },
      "execution_count": null,
      "outputs": [
        {
          "output_type": "stream",
          "name": "stdout",
          "text": [
            "123,  456,00789\n"
          ]
        }
      ]
    },
    {
      "cell_type": "code",
      "source": [
        "print(\"{2:d},{1:5d},{0:05d}\".format(123,456,789))"
      ],
      "metadata": {
        "id": "ObK9G6g_kyxl",
        "outputId": "c2192a53-c344-458c-d9bc-6b66f095f974",
        "colab": {
          "base_uri": "https://localhost:8080/"
        }
      },
      "execution_count": null,
      "outputs": [
        {
          "output_type": "stream",
          "name": "stdout",
          "text": [
            "789,  456,00123\n"
          ]
        }
      ]
    },
    {
      "cell_type": "markdown",
      "source": [
        "#서식 출력"
      ],
      "metadata": {
        "id": "7YKidf7Pk-oT"
      }
    },
    {
      "cell_type": "code",
      "source": [
        "print(\"\\n줄 바꿈 명령 \\n연습 입니다.\")"
      ],
      "metadata": {
        "id": "-3XxcDGtlCq_",
        "outputId": "879a7562-0372-4de7-e067-132068c86e55",
        "colab": {
          "base_uri": "https://localhost:8080/"
        }
      },
      "execution_count": null,
      "outputs": [
        {
          "output_type": "stream",
          "name": "stdout",
          "text": [
            "\n",
            "줄 바꿈 명령 \n",
            "연습 입니다.\n"
          ]
        }
      ]
    },
    {
      "cell_type": "code",
      "source": [
        "print(\"\\t 탭키 명령 \\t연습입니다.\")"
      ],
      "metadata": {
        "id": "nEXSM9XDlPkb",
        "outputId": "0ad442e0-981e-4816-8930-4e686866570e",
        "colab": {
          "base_uri": "https://localhost:8080/"
        }
      },
      "execution_count": null,
      "outputs": [
        {
          "output_type": "stream",
          "name": "stdout",
          "text": [
            "\t 탭키 명령 \t연습입니다.\n"
          ]
        }
      ]
    },
    {
      "cell_type": "code",
      "source": [
        "print(\"따음표 글자가 \\\"강조\\\" 되는 효과1\")\n",
        "print(\"따음표 글자가 \\'강조\\' 되는 효과2\")\n",
        "print(\"역슬레시 3개를 출력하려면 \\\\\\\\\\\\ 6개\")\n",
        "print(r\"\\n \\t \\\" '\\\\ \\' @그래로 출력\")"
      ],
      "metadata": {
        "id": "jixYG1rClfs_",
        "outputId": "22944f1b-50d2-42d2-ffe5-5fc1a9b19516",
        "colab": {
          "base_uri": "https://localhost:8080/"
        }
      },
      "execution_count": null,
      "outputs": [
        {
          "output_type": "stream",
          "name": "stdout",
          "text": [
            "따음표 글자가 \"강조\" 되는 효과1\n",
            "따음표 글자가 '강조' 되는 효과2\n",
            "역슬레시 3개를 출력하려면 \\\\\\ 6개\n",
            "\\n \\t \\\" '\\\\ \\' @그래로 출력\n"
          ]
        }
      ]
    },
    {
      "cell_type": "markdown",
      "source": [
        "### 관계 연산자"
      ],
      "metadata": {
        "id": "UHE1LrRBujk3"
      }
    },
    {
      "cell_type": "code",
      "source": [
        "a,b=10,20\n",
        "print(a==b,a!=b,a>=b,a<=b,a>b,a<b)"
      ],
      "metadata": {
        "id": "mauHUH4NumAl",
        "outputId": "6612a4f2-191f-41b8-ec67-b3f5f77d0ab4",
        "colab": {
          "base_uri": "https://localhost:8080/"
        }
      },
      "execution_count": null,
      "outputs": [
        {
          "output_type": "stream",
          "name": "stdout",
          "text": [
            "False True False True False True\n"
          ]
        }
      ]
    },
    {
      "cell_type": "markdown",
      "source": [
        "#### 논리 연산자 and, or, not"
      ],
      "metadata": {
        "id": "D_8Pf1e3vBTn"
      }
    },
    {
      "cell_type": "code",
      "source": [
        "a = 150\n",
        "print((a>100) and (a<200)) #100<a<200\n",
        "print((a<100) or (a>200))  #a<100,a>200\n",
        "print(not(a==100)) # a가 100이 아니면"
      ],
      "metadata": {
        "id": "YAM3BQd3vD-_",
        "outputId": "932b4e51-bfd9-4087-bc37-41a3e616a1cb",
        "colab": {
          "base_uri": "https://localhost:8080/"
        }
      },
      "execution_count": null,
      "outputs": [
        {
          "output_type": "stream",
          "name": "stdout",
          "text": [
            "True\n",
            "False\n",
            "True\n"
          ]
        }
      ]
    },
    {
      "cell_type": "code",
      "source": [
        "if(120): #0이 아니면 참이다\n",
        "   print(\"참이면 실행되어 보임\")\n",
        "if(0):  #0이면 안보임\n",
        "  print(\"거짓이면 안보임\")"
      ],
      "metadata": {
        "id": "9_6P4B_BwjD2",
        "outputId": "bf6bc0fc-7510-4534-a55d-3753f2904d1c",
        "colab": {
          "base_uri": "https://localhost:8080/"
        }
      },
      "execution_count": null,
      "outputs": [
        {
          "output_type": "stream",
          "name": "stdout",
          "text": [
            "참이면 실행되어 보임\n"
          ]
        }
      ]
    },
    {
      "cell_type": "markdown",
      "source": [
        "###### 퀴즈2 // 몫 % 나머지 money=int(input(\"입력\")) 지폐 금액입력 후 동전으로 교환시 (500원, 100원, 50원, 10원,) \n",
        " money, c500, c100, c50, c10 \n",
        "받은돈:?개\n",
        "500원:?개\n",
        "100원:?개\n",
        "50원:?개\n",
        "10원:?개\n",
        "나머지: ?원"
      ],
      "metadata": {
        "id": "nN_JysqyxHwl"
      }
    },
    {
      "cell_type": "code",
      "source": [
        "temp,money,c500,c100,c50,c10=0,0,0,0,0,0\n",
        "money=int(input(\"동전으로 교환할 돈은?:\"))\n",
        "temp=money\n",
        "c500 = money // 500 # 몫\n",
        "money %= 500 # 나머지\n",
        "c100 = money // 100\n",
        "money %=100\n",
        "c50 = money //50\n",
        "money %= 50\n",
        "c10 =money //10\n",
        "money %= 10\n",
        "print(\"입력받은 돈: %d원\" % temp )\n",
        "print(\"500원 동전 : %d\" % c500)\n",
        "print(\"100원 동전 : %d\" % c100)\n",
        "print(\"50원 동전 : %d\" % c50)\n",
        "print(\"10원 동전 : %d\" % c10)\n",
        "print(\"나머지 잔돈 : %d\" % money)\n",
        "\n",
        " \n"
      ],
      "metadata": {
        "id": "a-3WK6-7yUi4",
        "outputId": "b4c361da-bcbd-45f4-e22c-74c5126bd9d9",
        "colab": {
          "base_uri": "https://localhost:8080/"
        }
      },
      "execution_count": null,
      "outputs": [
        {
          "output_type": "stream",
          "name": "stdout",
          "text": [
            "동전으로 교환할 돈은?:123456789\n",
            "입력받은 돈: 123456789원\n",
            "500원 동전 : 246913\n",
            "100원 동전 : 2\n",
            "50원 동전 : 1\n",
            "10원 동전 : 3\n",
            "나머지 잔돈 : 9\n"
          ]
        }
      ]
    },
    {
      "cell_type": "markdown",
      "source": [
        "##조건문"
      ],
      "metadata": {
        "id": "qY-V4c1o6kK5"
      }
    },
    {
      "cell_type": "code",
      "source": [
        "a = 150\n",
        "if(a < 100): \n",
        "  print(\"100보다 작으면 참\")\n",
        "  print(\"거짓이면 이문장은 보이지 않음)\")\n",
        "print(\"프로그램 끝\")\n"
      ],
      "metadata": {
        "id": "zXRDf4WI6nOi",
        "outputId": "d0dde18a-5a44-4eed-c002-a75cc41ab800",
        "colab": {
          "base_uri": "https://localhost:8080/"
        }
      },
      "execution_count": null,
      "outputs": [
        {
          "output_type": "stream",
          "name": "stdout",
          "text": [
            "프로그램 끝\n"
          ]
        }
      ]
    },
    {
      "cell_type": "code",
      "source": [
        "a = 80\n",
        "if(a<100):\n",
        "  print(\"참:100보다 작음\")\n",
        "else :\n",
        "  print(\"거짓:조건보다 크면\")  \n",
        "print(\"프로그램 끝\")  "
      ],
      "metadata": {
        "id": "Jr1qF0uk7YWv",
        "outputId": "abd56ff9-81ee-46dd-d363-f0492fcaccd7",
        "colab": {
          "base_uri": "https://localhost:8080/"
        }
      },
      "execution_count": null,
      "outputs": [
        {
          "output_type": "stream",
          "name": "stdout",
          "text": [
            "참:100보다 작음\n",
            "프로그램 끝\n"
          ]
        }
      ]
    },
    {
      "cell_type": "code",
      "source": [
        "# 홀짝 구분\n",
        "a = int(input(\"숫자 입력\"))\n",
        "if(a%2==0):\n",
        "  print(\"짝수 입니다.\")\n",
        "else :\n",
        "  print(\" 홀수 입니다.\")  "
      ],
      "metadata": {
        "id": "Uicg_RYL7818",
        "outputId": "7ee0026f-4895-4a76-f98d-b902b9647257",
        "colab": {
          "base_uri": "https://localhost:8080/"
        }
      },
      "execution_count": null,
      "outputs": [
        {
          "output_type": "stream",
          "name": "stdout",
          "text": [
            "숫자 입력100\n",
            "짝수 입니다.\n"
          ]
        }
      ]
    },
    {
      "cell_type": "code",
      "source": [
        "a = int(input(\"숫자 입력\"))\n",
        "if(a > 50):\n",
        "  if(a <100):\n",
        "    print(\"50<a<100\")\n",
        "  else:\n",
        "    print(\"a>100\")\n",
        "else:\n",
        "   if(a>25):\n",
        "     print(\"25<a<50\")\n",
        "   else:\n",
        "     print(\"a<25\")\n",
        "print(\"프로그램 끝\")     "
      ],
      "metadata": {
        "id": "U-I4b3N981Ub",
        "outputId": "c7523bd9-615d-499a-e8bf-e5e6b6db25c9",
        "colab": {
          "base_uri": "https://localhost:8080/"
        }
      },
      "execution_count": null,
      "outputs": [
        {
          "output_type": "stream",
          "name": "stdout",
          "text": [
            "숫자 입력2315316\n",
            "a>100\n",
            "프로그램 끝\n"
          ]
        }
      ]
    },
    {
      "cell_type": "code",
      "source": [
        "fruit=['사과' '배','샤인머스캣','바나나']\n",
        "fruit.append('망고')\n",
        "if '망고' in fruit :\n",
        "   print(\"딸기가 있습니다.\")\n",
        "print(fruit)"
      ],
      "metadata": {
        "id": "4CDLtbLV_2lr",
        "outputId": "018199e2-dfed-45e1-f70b-32341f8b7056",
        "colab": {
          "base_uri": "https://localhost:8080/"
        }
      },
      "execution_count": null,
      "outputs": [
        {
          "output_type": "stream",
          "name": "stdout",
          "text": [
            "딸기가 있습니다.\n",
            "['사과배', '샤인머스캣', '바나나', '망고']\n"
          ]
        }
      ]
    },
    {
      "cell_type": "code",
      "source": [
        "for i in range(0,3,1): #시작값,끝값+1,증가값\n",
        "  print(\"%d 안녕하세요.\" % i)\n",
        "print(\"환영합니다.\")  "
      ],
      "metadata": {
        "id": "hK2tC_ltAzM3",
        "outputId": "f34c5f55-1ce6-4fc7-afb2-e223982f0fdd",
        "colab": {
          "base_uri": "https://localhost:8080/"
        }
      },
      "execution_count": null,
      "outputs": [
        {
          "output_type": "stream",
          "name": "stdout",
          "text": [
            "0 안녕하세요.\n",
            "1 안녕하세요.\n",
            "2 안녕하세요.\n",
            "환영합니다.\n"
          ]
        }
      ]
    },
    {
      "cell_type": "code",
      "source": [
        " import random \n",
        " num = []\n",
        " for i in range(0,6):\n",
        "    num.append(random.randrange(1,46))\n",
        " print(\"생성 리스트\", num)"
      ],
      "metadata": {
        "id": "5pe1mlATB4OH",
        "outputId": "544b0e97-ea23-47ce-a5d5-34adb34a78e0",
        "colab": {
          "base_uri": "https://localhost:8080/"
        }
      },
      "execution_count": null,
      "outputs": [
        {
          "output_type": "stream",
          "name": "stdout",
          "text": [
            "생성 리스트 [43, 31, 45, 27, 43, 1]\n"
          ]
        }
      ]
    },
    {
      "cell_type": "code",
      "source": [
        "for i in range(1,9,1):\n",
        "  print(\"%d\" % i, end='\\t')\n",
        "print(\"\\n\")  \n",
        "for j in range(1,9,1):\n",
        "  print(\"%d\" % j, end='\\t')"
      ],
      "metadata": {
        "id": "52D45i8_DdEa",
        "outputId": "16918b97-3b76-4d0d-c3a8-a8a96f404028",
        "colab": {
          "base_uri": "https://localhost:8080/"
        }
      },
      "execution_count": null,
      "outputs": [
        {
          "output_type": "stream",
          "name": "stdout",
          "text": [
            "1\t2\t3\t4\t5\t6\t7\t8\t\n",
            "\n",
            "1\t2\t3\t4\t5\t6\t7\t8\t"
          ]
        }
      ]
    },
    {
      "cell_type": "code",
      "source": [
        "sum = 0\n",
        "for i in range(1,11,1):\n",
        "  sum = sum + i\n",
        "print(\"1부터 10까지 합: %d\" % sum)  "
      ],
      "metadata": {
        "id": "3kGw83vvELSm",
        "outputId": "2fb0269d-20b2-4fee-b34e-a2cd14463347",
        "colab": {
          "base_uri": "https://localhost:8080/"
        }
      },
      "execution_count": null,
      "outputs": [
        {
          "output_type": "stream",
          "name": "stdout",
          "text": [
            "1부터 10까지 합: 55\n"
          ]
        }
      ]
    },
    {
      "cell_type": "code",
      "source": [
        "sum,num=0,0\n",
        "num = int(input(\"숫자를 입력:\"))\n",
        "for i in range(1,num + 1,1):\n",
        "  sum = sum + i\n",
        "print(\"1~n까지의 합:%d\" % sum)  "
      ],
      "metadata": {
        "id": "i9B1qLovE48D",
        "outputId": "45bc328a-736a-4c04-def4-eb723c399b02",
        "colab": {
          "base_uri": "https://localhost:8080/"
        }
      },
      "execution_count": null,
      "outputs": [
        {
          "output_type": "stream",
          "name": "stdout",
          "text": [
            "숫자를 입력:1000\n",
            "1~n까지의 합:500500\n"
          ]
        }
      ]
    },
    {
      "cell_type": "code",
      "source": [
        "i,j=2,0\n",
        "for j in range(1,10,1):\n",
        "  print(\"%d x %d = %2d\" % (i,j,i*j))"
      ],
      "metadata": {
        "id": "Q3wy5sCVF8Sw",
        "outputId": "68894006-e6c2-4c46-81c5-91888dc2ecc4",
        "colab": {
          "base_uri": "https://localhost:8080/"
        }
      },
      "execution_count": 2,
      "outputs": [
        {
          "output_type": "stream",
          "name": "stdout",
          "text": [
            "2 x 1 =  2\n",
            "2 x 2 =  4\n",
            "2 x 3 =  6\n",
            "2 x 4 =  8\n",
            "2 x 5 = 10\n",
            "2 x 6 = 12\n",
            "2 x 7 = 14\n",
            "2 x 8 = 16\n",
            "2 x 9 = 18\n"
          ]
        }
      ]
    },
    {
      "cell_type": "code",
      "source": [
        "i,j,k=0,0,0\n",
        "for i in range(2,10,1):\n",
        "  for j in range(1,10,1):\n",
        "    print(\"%d x %d = %2d\" % (i,j,i*j))\n",
        "  print(\"\")    "
      ],
      "metadata": {
        "id": "yPu_Oyi1Gryx",
        "outputId": "63585e41-1b41-4238-bd3a-3174a4c824aa",
        "colab": {
          "base_uri": "https://localhost:8080/"
        }
      },
      "execution_count": 1,
      "outputs": [
        {
          "output_type": "stream",
          "name": "stdout",
          "text": [
            "2 x 1 =  2\n",
            "2 x 2 =  4\n",
            "2 x 3 =  6\n",
            "2 x 4 =  8\n",
            "2 x 5 = 10\n",
            "2 x 6 = 12\n",
            "2 x 7 = 14\n",
            "2 x 8 = 16\n",
            "2 x 9 = 18\n",
            "\n",
            "3 x 1 =  3\n",
            "3 x 2 =  6\n",
            "3 x 3 =  9\n",
            "3 x 4 = 12\n",
            "3 x 5 = 15\n",
            "3 x 6 = 18\n",
            "3 x 7 = 21\n",
            "3 x 8 = 24\n",
            "3 x 9 = 27\n",
            "\n",
            "4 x 1 =  4\n",
            "4 x 2 =  8\n",
            "4 x 3 = 12\n",
            "4 x 4 = 16\n",
            "4 x 5 = 20\n",
            "4 x 6 = 24\n",
            "4 x 7 = 28\n",
            "4 x 8 = 32\n",
            "4 x 9 = 36\n",
            "\n",
            "5 x 1 =  5\n",
            "5 x 2 = 10\n",
            "5 x 3 = 15\n",
            "5 x 4 = 20\n",
            "5 x 5 = 25\n",
            "5 x 6 = 30\n",
            "5 x 7 = 35\n",
            "5 x 8 = 40\n",
            "5 x 9 = 45\n",
            "\n",
            "6 x 1 =  6\n",
            "6 x 2 = 12\n",
            "6 x 3 = 18\n",
            "6 x 4 = 24\n",
            "6 x 5 = 30\n",
            "6 x 6 = 36\n",
            "6 x 7 = 42\n",
            "6 x 8 = 48\n",
            "6 x 9 = 54\n",
            "\n",
            "7 x 1 =  7\n",
            "7 x 2 = 14\n",
            "7 x 3 = 21\n",
            "7 x 4 = 28\n",
            "7 x 5 = 35\n",
            "7 x 6 = 42\n",
            "7 x 7 = 49\n",
            "7 x 8 = 56\n",
            "7 x 9 = 63\n",
            "\n",
            "8 x 1 =  8\n",
            "8 x 2 = 16\n",
            "8 x 3 = 24\n",
            "8 x 4 = 32\n",
            "8 x 5 = 40\n",
            "8 x 6 = 48\n",
            "8 x 7 = 56\n",
            "8 x 8 = 64\n",
            "8 x 9 = 72\n",
            "\n",
            "9 x 1 =  9\n",
            "9 x 2 = 18\n",
            "9 x 3 = 27\n",
            "9 x 4 = 36\n",
            "9 x 5 = 45\n",
            "9 x 6 = 54\n",
            "9 x 7 = 63\n",
            "9 x 8 = 72\n",
            "9 x 9 = 81\n",
            "\n"
          ]
        }
      ]
    },
    {
      "cell_type": "markdown",
      "source": [
        "### 퀴즈 구구단을 만들고 2,3,4,5,줄바꿔서 6,7,8,9을 하시오."
      ],
      "metadata": {
        "id": "eY-U65YWHcO4"
      }
    },
    {
      "cell_type": "code",
      "source": [
        "a,b=0,0\n",
        "for a in range(1,10):\n",
        "  for b in range(2,6):\n",
        "    print(\"%d x %d = %2d\" % (b,a,a*b), end=\"\\t\")\n",
        "  print(\"\")\n",
        "print(\"\\n\")\n",
        "c,d=0,0\n",
        "for c in range(1,10):\n",
        "  for d in range(6,10):\n",
        "    print(\"%d x %d = %2d\" % (d,c,c*d), end=\"\\t\")\n",
        "  print(\"\")"
      ],
      "metadata": {
        "id": "5jk5hB0yHKQ-",
        "outputId": "f72853e1-2505-47a2-e65e-a6a8a1525403",
        "colab": {
          "base_uri": "https://localhost:8080/"
        }
      },
      "execution_count": 3,
      "outputs": [
        {
          "output_type": "stream",
          "name": "stdout",
          "text": [
            "2 x 1 =  2\t3 x 1 =  3\t4 x 1 =  4\t5 x 1 =  5\t\n",
            "2 x 2 =  4\t3 x 2 =  6\t4 x 2 =  8\t5 x 2 = 10\t\n",
            "2 x 3 =  6\t3 x 3 =  9\t4 x 3 = 12\t5 x 3 = 15\t\n",
            "2 x 4 =  8\t3 x 4 = 12\t4 x 4 = 16\t5 x 4 = 20\t\n",
            "2 x 5 = 10\t3 x 5 = 15\t4 x 5 = 20\t5 x 5 = 25\t\n",
            "2 x 6 = 12\t3 x 6 = 18\t4 x 6 = 24\t5 x 6 = 30\t\n",
            "2 x 7 = 14\t3 x 7 = 21\t4 x 7 = 28\t5 x 7 = 35\t\n",
            "2 x 8 = 16\t3 x 8 = 24\t4 x 8 = 32\t5 x 8 = 40\t\n",
            "2 x 9 = 18\t3 x 9 = 27\t4 x 9 = 36\t5 x 9 = 45\t\n",
            "\n",
            "\n",
            "6 x 1 =  6\t7 x 1 =  7\t8 x 1 =  8\t9 x 1 =  9\t\n",
            "6 x 2 = 12\t7 x 2 = 14\t8 x 2 = 16\t9 x 2 = 18\t\n",
            "6 x 3 = 18\t7 x 3 = 21\t8 x 3 = 24\t9 x 3 = 27\t\n",
            "6 x 4 = 24\t7 x 4 = 28\t8 x 4 = 32\t9 x 4 = 36\t\n",
            "6 x 5 = 30\t7 x 5 = 35\t8 x 5 = 40\t9 x 5 = 45\t\n",
            "6 x 6 = 36\t7 x 6 = 42\t8 x 6 = 48\t9 x 6 = 54\t\n",
            "6 x 7 = 42\t7 x 7 = 49\t8 x 7 = 56\t9 x 7 = 63\t\n",
            "6 x 8 = 48\t7 x 8 = 56\t8 x 8 = 64\t9 x 8 = 72\t\n",
            "6 x 9 = 54\t7 x 9 = 63\t8 x 9 = 72\t9 x 9 = 81\t\n"
          ]
        }
      ]
    },
    {
      "cell_type": "markdown",
      "source": [
        "# ch3. 자료형 \n",
        "\n",
        "## 1. 리스트 인덱스, 슬라이싱"
      ],
      "metadata": {
        "id": "mo62rTMeh2_c"
      }
    },
    {
      "cell_type": "code",
      "source": [
        "a = [1,2,3,4,5,6,7,8,9]\n",
        "print(a)\n",
        "print(a[0])\n"
      ],
      "metadata": {
        "id": "UZJs-Xk2iDbZ",
        "outputId": "635e1c1b-7d34-407d-8174-d608bd4d6477",
        "colab": {
          "base_uri": "https://localhost:8080/"
        }
      },
      "execution_count": 5,
      "outputs": [
        {
          "output_type": "stream",
          "name": "stdout",
          "text": [
            "[1, 2, 3, 4, 5, 6, 7, 8, 9]\n",
            "1\n"
          ]
        }
      ]
    },
    {
      "cell_type": "code",
      "source": [
        "a = [1,2,3,4,5,6,7,8,9]\n",
        "print(a[-1])\n",
        "print(a[-2])"
      ],
      "metadata": {
        "id": "ObqQQaYaj0il",
        "outputId": "fd0f3325-f965-4209-973d-30566ce31dec",
        "colab": {
          "base_uri": "https://localhost:8080/"
        }
      },
      "execution_count": 7,
      "outputs": [
        {
          "output_type": "stream",
          "name": "stdout",
          "text": [
            "9\n",
            "8\n"
          ]
        }
      ]
    },
    {
      "cell_type": "code",
      "source": [
        "a = [1,2,3,4,5,6,7,8,9]\n",
        "print(a[1:9:2])\n",
        "print(a[0:9:2])"
      ],
      "metadata": {
        "id": "Q3a0YghmkCtl",
        "outputId": "ada85978-2922-4f1f-b4f0-2201808d342b",
        "colab": {
          "base_uri": "https://localhost:8080/"
        }
      },
      "execution_count": 10,
      "outputs": [
        {
          "output_type": "stream",
          "name": "stdout",
          "text": [
            "[2, 4, 6, 8]\n",
            "[1, 3, 5, 7, 9]\n"
          ]
        }
      ]
    },
    {
      "cell_type": "code",
      "source": [
        "a = [1,2,3,4,5,6,7,8,9]\n",
        "print(a[:4])\n",
        "print(a[5:])"
      ],
      "metadata": {
        "id": "kDVRP2LNkVUU",
        "outputId": "45add9cf-bdfc-4818-9211-116d7a7c11a8",
        "colab": {
          "base_uri": "https://localhost:8080/"
        }
      },
      "execution_count": 11,
      "outputs": [
        {
          "output_type": "stream",
          "name": "stdout",
          "text": [
            "[1, 2, 3, 4]\n",
            "[6, 7, 8, 9]\n"
          ]
        }
      ]
    },
    {
      "cell_type": "code",
      "source": [
        "a = [1,2,3,4,5,6,7,8,9]\n",
        "print(len(a))\n",
        "print(len(a)-1)"
      ],
      "metadata": {
        "id": "pmr6I-fBkzn0",
        "outputId": "021372b4-3209-4fe4-e638-f52d4641ef3c",
        "colab": {
          "base_uri": "https://localhost:8080/"
        }
      },
      "execution_count": 13,
      "outputs": [
        {
          "output_type": "stream",
          "name": "stdout",
          "text": [
            "9\n",
            "8\n"
          ]
        }
      ]
    },
    {
      "cell_type": "code",
      "source": [
        "b = [1,2,3,4,5,6]\n",
        "b[0] = \"apple\"\n",
        "b[1] = 99\n",
        "b[5]= [1,2,3]\n",
        "print(b)"
      ],
      "metadata": {
        "id": "ibGJ_R40lJFW",
        "outputId": "7f14638c-4207-4d6a-ad59-34c549f9d537",
        "colab": {
          "base_uri": "https://localhost:8080/"
        }
      },
      "execution_count": 19,
      "outputs": [
        {
          "output_type": "stream",
          "name": "stdout",
          "text": [
            "['apple', 99, 3, 4, 5, [1, 2, 3]]\n"
          ]
        }
      ]
    },
    {
      "cell_type": "markdown",
      "source": [
        "###list add"
      ],
      "metadata": {
        "id": "cjvadaVrmOg2"
      }
    },
    {
      "cell_type": "code",
      "source": [
        "a = [1,2,3]\n",
        "b = [4,5,6]\n",
        "c= a + b\n",
        "print(a+b)\n",
        "print(c)\n",
        "print(c*3)"
      ],
      "metadata": {
        "id": "Yra3LyW_mRHP",
        "outputId": "bf5a8b68-11b8-4cb9-ac9f-f08536ef1918",
        "colab": {
          "base_uri": "https://localhost:8080/"
        }
      },
      "execution_count": 23,
      "outputs": [
        {
          "output_type": "stream",
          "name": "stdout",
          "text": [
            "[1, 2, 3, 4, 5, 6]\n",
            "[1, 2, 3, 4, 5, 6]\n",
            "[1, 2, 3, 4, 5, 6, 1, 2, 3, 4, 5, 6, 1, 2, 3, 4, 5, 6]\n"
          ]
        }
      ]
    },
    {
      "cell_type": "markdown",
      "source": [
        "##### 함수 이용 "
      ],
      "metadata": {
        "id": "eUBpT4K6mtyM"
      }
    },
    {
      "cell_type": "code",
      "source": [
        "k = [\"a\",\"b\",\"c\",\"d\"]\n",
        "k.remove(\"c\") # 해당 요소값 삭제\n",
        "print(k)\n",
        "k.append(\"f\") # 맨뒤에 추가\n",
        "print(k)"
      ],
      "metadata": {
        "id": "Pbl6OE0AmylH",
        "outputId": "028c15a8-0fa6-49c0-a6cb-94dd7f83c737",
        "colab": {
          "base_uri": "https://localhost:8080/"
        }
      },
      "execution_count": 28,
      "outputs": [
        {
          "output_type": "stream",
          "name": "stdout",
          "text": [
            "['a', 'b', 'd']\n",
            "['a', 'b', 'd', 'f']\n"
          ]
        }
      ]
    },
    {
      "cell_type": "code",
      "source": [
        "k = [1,2,3,4,5]\n",
        "k.remove(3) # 해당 요소값 삭제\n",
        "print(k)\n",
        "k.append(6) # 맨뒤에 추가\n",
        "print(k)"
      ],
      "metadata": {
        "id": "AV6L_tvFnr6T",
        "outputId": "e72fea0d-389c-4f7f-84c3-d729086c0b50",
        "colab": {
          "base_uri": "https://localhost:8080/"
        }
      },
      "execution_count": 29,
      "outputs": [
        {
          "output_type": "stream",
          "name": "stdout",
          "text": [
            "[1, 2, 4, 5]\n",
            "[1, 2, 4, 5, 6]\n"
          ]
        }
      ]
    },
    {
      "cell_type": "code",
      "source": [
        "j = \"God is love!\"\n",
        "print(j[:3])\n",
        "print(j[4:6])\n",
        "print(j[7:])"
      ],
      "metadata": {
        "id": "nianAvsAn5Rn",
        "outputId": "f40e2ac9-5ddd-414f-8857-8d6515764d1a",
        "colab": {
          "base_uri": "https://localhost:8080/"
        }
      },
      "execution_count": 35,
      "outputs": [
        {
          "output_type": "stream",
          "name": "stdout",
          "text": [
            "God\n",
            "is\n",
            "love!\n"
          ]
        }
      ]
    },
    {
      "cell_type": "code",
      "source": [
        "j = \" God is love! \"\n",
        "print(j.upper())\n",
        "print(j.lower())\n",
        "print(j.strip()) # 공백을 없애줌"
      ],
      "metadata": {
        "id": "L6V_1YTqohfC",
        "outputId": "c2c3c53d-a9e1-481f-9ea8-66b7652eed52",
        "colab": {
          "base_uri": "https://localhost:8080/"
        }
      },
      "execution_count": 38,
      "outputs": [
        {
          "output_type": "stream",
          "name": "stdout",
          "text": [
            " GOD IS LOVE! \n",
            " god is love! \n",
            "God is love!\n"
          ]
        }
      ]
    },
    {
      "cell_type": "code",
      "source": [
        "a = \"apple,mango,banana\"\n",
        "print(a.split(\",\")) #,있는것을 분류해서 만들어줌"
      ],
      "metadata": {
        "id": "_RvZU-eDsxzQ",
        "outputId": "f20586e3-ae3d-4190-8277-487e4058a2e1",
        "colab": {
          "base_uri": "https://localhost:8080/"
        }
      },
      "execution_count": 39,
      "outputs": [
        {
          "output_type": "stream",
          "name": "stdout",
          "text": [
            "['apple', 'mango', 'banana']\n"
          ]
        }
      ]
    },
    {
      "cell_type": "code",
      "source": [
        "a = [\"aaple\",\"banana\",\"cherry\"]\n",
        "a.append(\"orange\") # 맨 뒤쪽에 추가\n",
        "print(a)"
      ],
      "metadata": {
        "id": "Jdsyc8jktGCN",
        "outputId": "981bb030-b2d8-4470-b907-9f44ff8ef29c",
        "colab": {
          "base_uri": "https://localhost:8080/"
        }
      },
      "execution_count": 41,
      "outputs": [
        {
          "output_type": "stream",
          "name": "stdout",
          "text": [
            "['aaple', 'banana', 'cherry', 'orange']\n"
          ]
        }
      ]
    },
    {
      "cell_type": "code",
      "source": [
        "a = [\"aaple\",\"banana\",\"cherry\"] \n",
        "a.insert(1,\"orange\") # 몇번째 숫자 지정한곳에 추가\n",
        "print(a)"
      ],
      "metadata": {
        "id": "YeBG05ZFteW3",
        "outputId": "f10fb5cb-1d39-4d05-81cf-eb5f0354e8c6",
        "colab": {
          "base_uri": "https://localhost:8080/"
        }
      },
      "execution_count": 42,
      "outputs": [
        {
          "output_type": "stream",
          "name": "stdout",
          "text": [
            "['aaple', 'orange', 'banana', 'cherry']\n"
          ]
        }
      ]
    },
    {
      "cell_type": "code",
      "source": [
        "a = [\"aaple\",\"banana\",\"cherry\",\"banana\"] \n",
        "a.remove(\"banana\") # 앞에 지정한것을 지워서 출력한다\n",
        "print(a)"
      ],
      "metadata": {
        "id": "vAJm4JV2twtZ",
        "outputId": "7b23d7fe-f6b6-406b-887d-56559d744c22",
        "colab": {
          "base_uri": "https://localhost:8080/"
        }
      },
      "execution_count": 44,
      "outputs": [
        {
          "output_type": "stream",
          "name": "stdout",
          "text": [
            "['aaple', 'cherry', 'banana']\n"
          ]
        }
      ]
    },
    {
      "cell_type": "code",
      "source": [
        "a = [\"apple\",\"banana\",\"cherry\"]\n",
        "a.pop() # 맨뒤에 있는것을 지운다\n",
        "print(a)\n",
        "a.pop(0)\n",
        "print(a) # 지정한곳을 지운다"
      ],
      "metadata": {
        "id": "ic_LBmbyuQfw",
        "outputId": "e433dacb-ed9c-419e-889c-09076e9ffd11",
        "colab": {
          "base_uri": "https://localhost:8080/"
        }
      },
      "execution_count": 47,
      "outputs": [
        {
          "output_type": "stream",
          "name": "stdout",
          "text": [
            "['apple', 'banana']\n",
            "['banana']\n"
          ]
        }
      ]
    },
    {
      "cell_type": "code",
      "source": [
        "fruit = [\"사과\",\"배\",\"오렌지\"]\n",
        "for i in fruit: #요소를 꺼내옴\n",
        "  print(i)"
      ],
      "metadata": {
        "id": "4zoNj4jiudZh",
        "outputId": "0fc601aa-cfee-4541-c92e-621b09543586",
        "colab": {
          "base_uri": "https://localhost:8080/"
        }
      },
      "execution_count": 48,
      "outputs": [
        {
          "output_type": "stream",
          "name": "stdout",
          "text": [
            "사과\n",
            "배\n",
            "오렌지\n"
          ]
        }
      ]
    },
    {
      "cell_type": "code",
      "source": [
        "fruit = [\"감\",\"밤\",\"대추\"]\n",
        "for i in range(len(fruit)): # 세번만큼 i를 계산 \n",
        "  print(fruit)"
      ],
      "metadata": {
        "id": "RgqmvmKJvRSr",
        "outputId": "2d4dcc29-345a-475b-b755-a8184be67ec3",
        "colab": {
          "base_uri": "https://localhost:8080/"
        }
      },
      "execution_count": 49,
      "outputs": [
        {
          "output_type": "stream",
          "name": "stdout",
          "text": [
            "['감', '밤', '대추']\n",
            "['감', '밤', '대추']\n",
            "['감', '밤', '대추']\n"
          ]
        }
      ]
    },
    {
      "cell_type": "markdown",
      "source": [
        "### SORT"
      ],
      "metadata": {
        "id": "hqoQkEvSvv5S"
      }
    },
    {
      "cell_type": "code",
      "source": [
        "a = [7,5,3,8,2,0,1,4,6,9]\n",
        "a.sort() # 리스트를 정렬을 해서 출력한다\n",
        "print(a)"
      ],
      "metadata": {
        "id": "YFTMS6movz02",
        "outputId": "b86463d5-9ce3-404e-a777-33a09b818774",
        "colab": {
          "base_uri": "https://localhost:8080/"
        }
      },
      "execution_count": 50,
      "outputs": [
        {
          "output_type": "stream",
          "name": "stdout",
          "text": [
            "[0, 1, 2, 3, 4, 5, 6, 7, 8, 9]\n"
          ]
        }
      ]
    },
    {
      "cell_type": "code",
      "source": [
        "a = [7,5,3,8,2,0,1,4,6,9]\n",
        "a.sort(reverse = True) # 리시트를 큰숫자서부터 정렬\n",
        "print(a)\n",
        "a.sort()\n",
        "print(a)"
      ],
      "metadata": {
        "id": "gzqZOkMHwIxV",
        "outputId": "074a9e1c-bd96-4eba-8a9a-72220cc4a9b1",
        "colab": {
          "base_uri": "https://localhost:8080/"
        }
      },
      "execution_count": 56,
      "outputs": [
        {
          "output_type": "stream",
          "name": "stdout",
          "text": [
            "[9, 8, 7, 6, 5, 4, 3, 2, 1, 0]\n",
            "[0, 1, 2, 3, 4, 5, 6, 7, 8, 9]\n"
          ]
        }
      ]
    },
    {
      "cell_type": "code",
      "source": [
        "fruit = [\"Kiwi\",\"apple\",\"Orange\",\"banana\"]\n",
        "fruit.sort() # 대문자 순서대로 출력후 소문자 순서대로 출력\n",
        "print(fruit)\n",
        "fruit.sort(key=str.lower) # 대소문자 구분없이 순서대로 출력\n",
        "print(fruit)\n",
        "fruit.reverse() # 반대로 출력된다\n",
        "print(fruit)"
      ],
      "metadata": {
        "id": "ElmCefthwm4o",
        "outputId": "8a8d599e-fa60-4a38-d483-949947173a4a",
        "colab": {
          "base_uri": "https://localhost:8080/"
        }
      },
      "execution_count": 59,
      "outputs": [
        {
          "output_type": "stream",
          "name": "stdout",
          "text": [
            "['Kiwi', 'Orange', 'apple', 'banana']\n",
            "['apple', 'banana', 'Kiwi', 'Orange']\n",
            "['Orange', 'Kiwi', 'banana', 'apple']\n"
          ]
        }
      ]
    },
    {
      "cell_type": "code",
      "source": [
        "# LIST 복사\n",
        "fruit = [\"Kiwi\",\"apple\",\"Orange\",\"banana\"]\n",
        "myList = fruit.copy()\n",
        "print(myList)\n",
        "cyList = list(fruit)\n",
        "print(cyList)"
      ],
      "metadata": {
        "id": "y2W9VnqUzVNX",
        "outputId": "95d24adc-b27e-4ddc-c745-7c22245ccd12",
        "colab": {
          "base_uri": "https://localhost:8080/"
        }
      },
      "execution_count": 62,
      "outputs": [
        {
          "output_type": "stream",
          "name": "stdout",
          "text": [
            "['Kiwi', 'apple', 'Orange', 'banana']\n",
            "['Kiwi', 'apple', 'Orange', 'banana']\n"
          ]
        }
      ]
    },
    {
      "cell_type": "markdown",
      "source": [
        "## 2.Tuole 튜플 \n",
        " 리스트와의 차이점 : 값의 변경이 불가함\n",
        " \n"
      ],
      "metadata": {
        "id": "Bjf1hxb-z9cF"
      }
    },
    {
      "cell_type": "code",
      "source": [
        "I = [1,2,3]\n",
        "t = (5,6,7)\n",
        "print(type(I))\n",
        "print(type(t))"
      ],
      "metadata": {
        "id": "kQ22jZxW1KXH",
        "outputId": "d32e52d9-d6bc-4c2c-e672-5c18002fb60b",
        "colab": {
          "base_uri": "https://localhost:8080/"
        }
      },
      "execution_count": 63,
      "outputs": [
        {
          "output_type": "stream",
          "name": "stdout",
          "text": [
            "<class 'list'>\n",
            "<class 'tuple'>\n"
          ]
        }
      ]
    },
    {
      "cell_type": "code",
      "source": [
        "I = [1,2,3]\n",
        "t = (5,6,7)\n",
        "I[0] = 4\n",
        "print(I)\n",
        "#t[0] = 8\n",
        "print(t)"
      ],
      "metadata": {
        "id": "IGlhx0AQ1gjj",
        "outputId": "30976a87-2501-47b7-8986-c0c031ed9596",
        "colab": {
          "base_uri": "https://localhost:8080/"
        }
      },
      "execution_count": 66,
      "outputs": [
        {
          "output_type": "stream",
          "name": "stdout",
          "text": [
            "[4, 2, 3]\n",
            "(5, 6, 7)\n"
          ]
        }
      ]
    },
    {
      "cell_type": "code",
      "source": [
        "f = (\"apple\",\"banana\",\"cherry\")\n",
        "print(len(f)) #자료형안에 숫자를 구함"
      ],
      "metadata": {
        "id": "k1oOZIPG1yQI",
        "outputId": "5f301ab2-d0ed-498d-b655-5244eccd8ea1",
        "colab": {
          "base_uri": "https://localhost:8080/"
        }
      },
      "execution_count": 67,
      "outputs": [
        {
          "output_type": "stream",
          "name": "stdout",
          "text": [
            "3\n"
          ]
        }
      ]
    },
    {
      "cell_type": "code",
      "source": [
        "t = (\"Kiwi\")\n",
        "print(t)\n",
        "print(type(t))"
      ],
      "metadata": {
        "id": "r2I_Re4p2E4A",
        "outputId": "51c1f241-64af-4b6f-a76b-68973ab8bbd3",
        "colab": {
          "base_uri": "https://localhost:8080/"
        }
      },
      "execution_count": 71,
      "outputs": [
        {
          "output_type": "stream",
          "name": "stdout",
          "text": [
            "Kiwi\n",
            "<class 'str'>\n"
          ]
        }
      ]
    },
    {
      "cell_type": "code",
      "source": [
        "t = (\"Kiwi\",) # 튜플로 인식하기위해 \",필요\n",
        "print(t)\n",
        "print(type(t))"
      ],
      "metadata": {
        "id": "sa943ejo2aFC",
        "outputId": "3154bb0f-5d9e-454c-8369-ced079ef4fc5",
        "colab": {
          "base_uri": "https://localhost:8080/"
        }
      },
      "execution_count": 72,
      "outputs": [
        {
          "output_type": "stream",
          "name": "stdout",
          "text": [
            "('Kiwi',)\n",
            "<class 'tuple'>\n"
          ]
        }
      ]
    },
    {
      "cell_type": "code",
      "source": [
        "f = (\"banana\",\"apple\",\"Kiwi\",\"cherry\",\"Orange\")\n",
        "print(f[:4])\n",
        "print(f[2:])"
      ],
      "metadata": {
        "id": "3c4N3XL221qW",
        "outputId": "855b2ba5-4105-4d8d-854b-32790752a80b",
        "colab": {
          "base_uri": "https://localhost:8080/"
        }
      },
      "execution_count": 75,
      "outputs": [
        {
          "output_type": "stream",
          "name": "stdout",
          "text": [
            "('banana', 'apple', 'Kiwi', 'cherry')\n",
            "('Kiwi', 'cherry', 'Orange')\n"
          ]
        }
      ]
    },
    {
      "cell_type": "code",
      "source": [
        "f = (\"banana\",\"apple\",\"Kiwi\",\"cherry\",\"Orange\")\n",
        "if \"apple\" in f:\n",
        "  print(\"Yes\")\n",
        "else:\n",
        "  print(\"no\")  "
      ],
      "metadata": {
        "id": "KQIx4MUu3ZzY",
        "outputId": "2ef6f934-ea0a-4a59-e9cf-5aa07971fea8",
        "colab": {
          "base_uri": "https://localhost:8080/"
        }
      },
      "execution_count": 76,
      "outputs": [
        {
          "output_type": "stream",
          "name": "stdout",
          "text": [
            "Yes\n"
          ]
        }
      ]
    },
    {
      "cell_type": "markdown",
      "source": [
        "### Tuple <-> List"
      ],
      "metadata": {
        "id": "sDDgLYRy32_Q"
      }
    },
    {
      "cell_type": "code",
      "source": [
        "# 튜플에 추가하는 방법\n",
        "t = (\"apple\",\"banana\",\"cherry\")\n",
        "y = list(t)\n",
        "print(type(y)) # 튜플을 리스트로 바꾼다\n",
        "y.append(\"Orange\") # Orange 추가\n",
        "t = tuple(y) # 다시 튜플로 바꾸어준다\n",
        "print(t)"
      ],
      "metadata": {
        "id": "rxPsf10z4Gzb",
        "outputId": "167551dc-87ef-4199-fee9-8c11783d2657",
        "colab": {
          "base_uri": "https://localhost:8080/"
        }
      },
      "execution_count": 79,
      "outputs": [
        {
          "output_type": "stream",
          "name": "stdout",
          "text": [
            "<class 'list'>\n",
            "('apple', 'banana', 'cherry', 'Orange')\n"
          ]
        }
      ]
    },
    {
      "cell_type": "code",
      "source": [
        "# List <-> Tuple\n",
        "company = [\"LG\",\"SK\",\"Apple\"]\n",
        "t = tuple(company)\n",
        "print(company) # 리스트\n",
        "print(t) # 튜플"
      ],
      "metadata": {
        "id": "rh_aOhyA5CdJ",
        "outputId": "9cda2f6a-3a07-4459-8877-e5a34b1afde5",
        "colab": {
          "base_uri": "https://localhost:8080/"
        }
      },
      "execution_count": 81,
      "outputs": [
        {
          "output_type": "stream",
          "name": "stdout",
          "text": [
            "['LG', 'SK', 'Apple']\n",
            "('LG', 'SK', 'Apple')\n"
          ]
        }
      ]
    },
    {
      "cell_type": "code",
      "source": [
        "c = (\"LG\",\"SK\",\"Apple\")\n",
        "d = (\"Samsung\",)\n",
        "c += d  # c = c + d\n",
        "print(c)"
      ],
      "metadata": {
        "id": "ysdCFn7j6MM2",
        "outputId": "664fe41d-9156-4283-a346-34962abdb3ec",
        "colab": {
          "base_uri": "https://localhost:8080/"
        }
      },
      "execution_count": 82,
      "outputs": [
        {
          "output_type": "stream",
          "name": "stdout",
          "text": [
            "('LG', 'SK', 'Apple', 'Samsung')\n"
          ]
        }
      ]
    },
    {
      "cell_type": "code",
      "source": [
        "t = (\"감\",\"밤\",\"대추\")\n",
        "I = list(t)\n",
        "I.remove(\"대추\")\n",
        "t = tuple(I)\n",
        "print(t)"
      ],
      "metadata": {
        "id": "Xq692Lm66nqw",
        "outputId": "251b3c69-c8ca-47a7-ca6d-9075aea463d6",
        "colab": {
          "base_uri": "https://localhost:8080/"
        }
      },
      "execution_count": 83,
      "outputs": [
        {
          "output_type": "stream",
          "name": "stdout",
          "text": [
            "('감', '밤')\n"
          ]
        }
      ]
    },
    {
      "cell_type": "markdown",
      "source": [
        "## 3.Dict 사전자료형"
      ],
      "metadata": {
        "id": "hSNu18xUBoRC"
      }
    },
    {
      "cell_type": "code",
      "source": [
        "d = {\n",
        "    \"a\":1,\n",
        "    \"b\":2,\n",
        "    \"c\":3\n",
        "}\n",
        "print(d)\n",
        "print(type(d))"
      ],
      "metadata": {
        "id": "TGGNh9erBsz2",
        "outputId": "45d7e750-d06a-4c31-d192-b237e599cc97",
        "colab": {
          "base_uri": "https://localhost:8080/"
        }
      },
      "execution_count": 86,
      "outputs": [
        {
          "output_type": "stream",
          "name": "stdout",
          "text": [
            "{'a': 1, 'b': 2, 'c': 3}\n",
            "<class 'dict'>\n"
          ]
        }
      ]
    },
    {
      "cell_type": "code",
      "source": [
        "d = {\n",
        "    \"a\":1,\n",
        "    \"b\":2,\n",
        "    \"c\":3\n",
        "}\n",
        "print(d.keys())\n",
        "print(d.values())\n",
        "print(d.items())"
      ],
      "metadata": {
        "id": "9XOgB5y_CKa8",
        "outputId": "aec54c39-6bbc-4e30-c9bc-0a502d0fb43a",
        "colab": {
          "base_uri": "https://localhost:8080/"
        }
      },
      "execution_count": 88,
      "outputs": [
        {
          "output_type": "stream",
          "name": "stdout",
          "text": [
            "dict_keys(['a', 'b', 'c'])\n",
            "dict_values([1, 2, 3])\n",
            "dict_items([('a', 1), ('b', 2), ('c', 3)])\n"
          ]
        }
      ]
    },
    {
      "cell_type": "code",
      "source": [
        "car = {\n",
        "    \"maker\" : \"Hyundai\",\n",
        "    \"model\" : \"Pony2\",\n",
        "    \"year\" : 1994\n",
        "}\n",
        "print(car)\n",
        "print(len(car))\n",
        "car[\"year\"] = 2000\n",
        "print(car)\n",
        "car[\"color\"] = \"blue\"\n",
        "print(car)\n",
        "print(car[\"maker\"])"
      ],
      "metadata": {
        "id": "FOxeAth7CmW1",
        "outputId": "ea423125-2aee-4fe8-fbea-7d2dd23e8387",
        "colab": {
          "base_uri": "https://localhost:8080/"
        }
      },
      "execution_count": 95,
      "outputs": [
        {
          "output_type": "stream",
          "name": "stdout",
          "text": [
            "{'maker': 'Hyundai', 'model': 'Pony2', 'year': 1994}\n",
            "3\n",
            "{'maker': 'Hyundai', 'model': 'Pony2', 'year': 2000}\n",
            "{'maker': 'Hyundai', 'model': 'Pony2', 'year': 2000, 'color': 'blue'}\n",
            "Hyundai\n"
          ]
        }
      ]
    },
    {
      "cell_type": "code",
      "source": [
        "car = {\n",
        "    \"maker\" : \"BMW\",\n",
        "    \"model\" : \"740Li\",\n",
        "    \"year\" : 2023\n",
        "}\n",
        "car.pop(\"model\") # 해당 키값을 삭제\n",
        "print(car)"
      ],
      "metadata": {
        "id": "Xs08wQtJESBB",
        "outputId": "7cf1f644-8baf-43ed-d385-1be749026c05",
        "colab": {
          "base_uri": "https://localhost:8080/"
        }
      },
      "execution_count": 96,
      "outputs": [
        {
          "output_type": "stream",
          "name": "stdout",
          "text": [
            "{'maker': 'BMW', 'year': 2023}\n"
          ]
        }
      ]
    },
    {
      "cell_type": "code",
      "source": [
        "car = {\n",
        "    \"maker\" : \"BMW\",\n",
        "    \"model\" : \"GT\",\n",
        "    \"year\" : 2023\n",
        "}\n",
        "car.popitem() # 맨뒤에 삭제\n",
        "print(car)"
      ],
      "metadata": {
        "id": "EpzBCI_BEtBe",
        "outputId": "d566695d-4916-4fc8-a043-300040be78a0",
        "colab": {
          "base_uri": "https://localhost:8080/"
        }
      },
      "execution_count": 97,
      "outputs": [
        {
          "output_type": "stream",
          "name": "stdout",
          "text": [
            "{'maker': 'BMW', 'model': 'GT'}\n"
          ]
        }
      ]
    },
    {
      "cell_type": "code",
      "source": [
        "car = {\n",
        "    \"maker\" : \"BMW\",\n",
        "    \"model\" : \"GT\",\n",
        "    \"year\" : 2023\n",
        "}\n",
        "car.clear() #안에 전체 테이터를 비움\n",
        "print(car)\n",
        "car[\"maker\"] = \"KIA\"\n",
        "print(car)"
      ],
      "metadata": {
        "id": "YGac3cogFBJ7",
        "outputId": "c9a78a40-7979-4949-b855-5b292044b2ad",
        "colab": {
          "base_uri": "https://localhost:8080/"
        }
      },
      "execution_count": 100,
      "outputs": [
        {
          "output_type": "stream",
          "name": "stdout",
          "text": [
            "{}\n",
            "{'maker': 'KIA'}\n"
          ]
        }
      ]
    },
    {
      "cell_type": "code",
      "source": [
        "car = {\n",
        "    \"maker\" : \"BMW\",\n",
        "    \"model\" : \"GT\",\n",
        "    \"year\" : 2023\n",
        "}\n",
        "del car #다지워져서 오류가 생김\n",
        "# print(car)"
      ],
      "metadata": {
        "id": "thFczWZ3FfJR"
      },
      "execution_count": 101,
      "outputs": []
    },
    {
      "cell_type": "markdown",
      "source": [
        "###loop"
      ],
      "metadata": {
        "id": "hnftM_74F-ys"
      }
    },
    {
      "cell_type": "code",
      "source": [
        "car = {\n",
        "    \"maker\" : \"BMW\",\n",
        "    \"model\" : \"i4\",\n",
        "    \"year\" : 2023\n",
        "}\n",
        "for x in car:\n",
        "  print(car[x])"
      ],
      "metadata": {
        "id": "Zs_r4NPnGBGP",
        "outputId": "e59e0ac8-ef02-42aa-994f-fa0a18737c48",
        "colab": {
          "base_uri": "https://localhost:8080/"
        }
      },
      "execution_count": 102,
      "outputs": [
        {
          "output_type": "stream",
          "name": "stdout",
          "text": [
            "BMW\n",
            "i4\n",
            "2023\n"
          ]
        }
      ]
    },
    {
      "cell_type": "code",
      "source": [
        "car = {\n",
        "    \"maker\" : \"BMW\",\n",
        "    \"model\" : \"i4\",\n",
        "    \"year\" : 2023\n",
        "}\n",
        "for x in car.keys():\n",
        "  print(x)"
      ],
      "metadata": {
        "id": "5A6ianKLGRYL",
        "outputId": "c8dda129-245d-4148-fc80-e0cecf4e7d6e",
        "colab": {
          "base_uri": "https://localhost:8080/"
        }
      },
      "execution_count": 103,
      "outputs": [
        {
          "output_type": "stream",
          "name": "stdout",
          "text": [
            "maker\n",
            "model\n",
            "year\n"
          ]
        }
      ]
    },
    {
      "cell_type": "code",
      "source": [
        "car = {\n",
        "    \"maker\" : \"BMW\",\n",
        "    \"model\" : \"i4\",\n",
        "    \"year\" : 2023\n",
        "}\n",
        "for x in car.values():\n",
        "  print(x)"
      ],
      "metadata": {
        "id": "qGBBUi3jGgRx",
        "outputId": "00d5bc37-9471-402a-b69c-4bf0e20863c0",
        "colab": {
          "base_uri": "https://localhost:8080/"
        }
      },
      "execution_count": 104,
      "outputs": [
        {
          "output_type": "stream",
          "name": "stdout",
          "text": [
            "BMW\n",
            "i4\n",
            "2023\n"
          ]
        }
      ]
    },
    {
      "cell_type": "code",
      "source": [
        "car = {\n",
        "    \"maker\" : \"BMW\",\n",
        "    \"model\" : \"i4\",\n",
        "    \"year\" : 2023\n",
        "}\n",
        "for x,y in car.items():\n",
        "  print(x,y) #item 값은 한쌍이므로 임이로 x,y 두개를 넣어줘야 한다"
      ],
      "metadata": {
        "id": "J419hDwgGq3B",
        "outputId": "33323137-6280-4e3c-a59d-6c979348602c",
        "colab": {
          "base_uri": "https://localhost:8080/"
        }
      },
      "execution_count": 105,
      "outputs": [
        {
          "output_type": "stream",
          "name": "stdout",
          "text": [
            "maker BMW\n",
            "model i4\n",
            "year 2023\n"
          ]
        }
      ]
    },
    {
      "cell_type": "code",
      "source": [
        "car = {\n",
        "    \"maker\" : \"BMW\",\n",
        "    \"model\" : \"i4\",\n",
        "    \"year\" : 2023\n",
        "}\n",
        "myCar = car.copy()\n",
        "print(myCar)"
      ],
      "metadata": {
        "id": "dHjHAbmqHUKB",
        "outputId": "8dc3fd11-679d-46e2-be45-72fc4f7d6743",
        "colab": {
          "base_uri": "https://localhost:8080/"
        }
      },
      "execution_count": 106,
      "outputs": [
        {
          "output_type": "stream",
          "name": "stdout",
          "text": [
            "{'maker': 'BMW', 'model': 'i4', 'year': 2023}\n"
          ]
        }
      ]
    },
    {
      "cell_type": "code",
      "source": [
        "food = {\n",
        "    \"brand\" : \"Lotte\",\n",
        "    \"model\" : \"Ice Cream\",\n",
        "    \"Price\" : 2000\n",
        "}\n",
        "myFood = dict(food)\n",
        "print(myFood)"
      ],
      "metadata": {
        "id": "y4kLzJarHtsS",
        "outputId": "7d00c595-0977-4ae0-c103-1ddba04afd38",
        "colab": {
          "base_uri": "https://localhost:8080/"
        }
      },
      "execution_count": 107,
      "outputs": [
        {
          "output_type": "stream",
          "name": "stdout",
          "text": [
            "{'brand': 'Lotte', 'model': 'Ice Cream', 'Price': 2000}\n"
          ]
        }
      ]
    },
    {
      "cell_type": "code",
      "source": [
        "name1 = {\"name\" : \"김삿갓\", \"year\" : 1900}\n",
        "name2 = {\"name\" : \"홍길동\", \"year\" : 1800}\n",
        "name3 = {\"name\" : \"김유진\", \"year\" : 2000}\n",
        "family ={\n",
        "    \"name1\" : name1,\n",
        "    \"name2\" : name2,\n",
        "    \"name3\" : name3\n",
        "}\n",
        "print(family)"
      ],
      "metadata": {
        "id": "R9TslRPiIY0D",
        "outputId": "b7a6a123-840c-4b7e-8f74-97f56603c8cc",
        "colab": {
          "base_uri": "https://localhost:8080/"
        }
      },
      "execution_count": 108,
      "outputs": [
        {
          "output_type": "stream",
          "name": "stdout",
          "text": [
            "{'name1': {'name': '김삿갓', 'year': 1900}, 'name2': {'name': '홍길동', 'year': 1800}, 'name3': {'name': '김유진', 'year': 2000}}\n"
          ]
        }
      ]
    },
    {
      "cell_type": "code",
      "source": [
        "name1 = input(\"이름\")\n",
        "number1 = input(\"전화번호\")\n",
        "name2 = input(\"이름\")\n",
        "number2 = input(\"전화번호\")\n",
        "name3 = input(\"이름\")\n",
        "number3 = input(\"전화번호\")\n",
        "family ={\n",
        "    \"name1\" : name1,\n",
        "    \"name2\" : name2,\n",
        "    \"name3\" : name3\n",
        "}\n",
        "for x,y in family.items():\n",
        "  print(x,y)"
      ],
      "metadata": {
        "id": "SgkEcyE_J4tz",
        "outputId": "8e2f0596-9a3c-4ee8-bee3-6a9dd481019f",
        "colab": {
          "base_uri": "https://localhost:8080/"
        }
      },
      "execution_count": 120,
      "outputs": [
        {
          "output_type": "stream",
          "name": "stdout",
          "text": [
            "이름0\n",
            "전화번호1\n",
            "이름2\n",
            "전화번호3\n",
            "이름4\n",
            "전화번호5\n",
            "name1 0\n",
            "name2 2\n",
            "name3 4\n"
          ]
        }
      ]
    }
  ]
}