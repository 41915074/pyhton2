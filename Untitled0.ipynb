{
  "nbformat": 4,
  "nbformat_minor": 0,
  "metadata": {
    "colab": {
      "provenance": [],
      "authorship_tag": "ABX9TyMILMhvwk795VtzOQgoRU1o",
      "include_colab_link": true
    },
    "kernelspec": {
      "name": "python3",
      "display_name": "Python 3"
    },
    "language_info": {
      "name": "python"
    }
  },
  "cells": [
    {
      "cell_type": "markdown",
      "metadata": {
        "id": "view-in-github",
        "colab_type": "text"
      },
      "source": [
        "<a href=\"https://colab.research.google.com/github/41915074/python/blob/main/Untitled0.ipynb\" target=\"_parent\"><img src=\"https://colab.research.google.com/assets/colab-badge.svg\" alt=\"Open In Colab\"/></a>"
      ]
    },
    {
      "cell_type": "code",
      "execution_count": null,
      "metadata": {
        "id": "4VTk9r1ZiEHk"
      },
      "outputs": [],
      "source": []
    },
    {
      "cell_type": "markdown",
      "source": [
        "CH1. 파이썬 문법\n",
        "**자료형**\n",
        " * 점수 : 123, 456, 0, -30\n",
        " * 실수 : 12.345, -987,65, 0.7e6\n",
        " * 8진수 : Oo765, Oo123\n",
        " * 진수 :0xOD, 0xOA, 0xFF\n",
        "\n",
        "**숫자형**\n",
        "\n",
        " * 문자 또는 밑줄로 시작 (_YOUNG, alpha)\n",
        " * 대소문자 구분(sum, Sum, SUM)\n",
        " * 영문자, 숫자, 밑줄(A-z, 0-9, _) ex) sun_9, Alpha, s9n,\n",
        " * 파이썬 키워드 (print....)\n",
        "\n",
        "**변수**\n",
        "\n",
        "* 문자 또는 밑줄로 시작 (_YOUNG, alpha)\n",
        "* 대소문자 구분(sum, Sum, SUM)\n",
        "* 영문자, 숫자, 밑줄(A-z, 0-9, _) ex) sun_9, Alpha, s9n,\n",
        "* 파이썬 키워드 (print....)\n",
        "\n",
        "**표기법**\n",
        "\n",
        "* 카멜(낙타) : myNAME\n",
        "* 스네이크(뱀) : my_name\n",
        "* 파스칼 : myName\n"
      ],
      "metadata": {
        "id": "odAvDGWKk0gg"
      }
    },
    {
      "cell_type": "code",
      "source": [
        "a = 10\n",
        "b = 20\n",
        "f = \"10\"\n",
        "c = a +b\n",
        "print(a,b,c,f)"
      ],
      "metadata": {
        "colab": {
          "base_uri": "https://localhost:8080/"
        },
        "id": "QwLLEXo_lmYM",
        "outputId": "e2e6c85e-cbd0-4bb6-e5d2-b915c068e84b"
      },
      "execution_count": null,
      "outputs": [
        {
          "output_type": "stream",
          "name": "stdout",
          "text": [
            "10 20 30 10\n"
          ]
        }
      ]
    },
    {
      "cell_type": "code",
      "source": [
        "a = 10\n",
        "b = 20\n",
        "c = \"10\"\n",
        "d = \"20\"\n",
        "print(a+b)\n",
        "print(a,b)\n",
        "print(type(a))\n",
        "print(type(c))\n",
        "print(c+d)\n",
        "print(c,d)"
      ],
      "metadata": {
        "colab": {
          "base_uri": "https://localhost:8080/"
        },
        "id": "O02l0uoymA5F",
        "outputId": "5d16d248-cf53-4f38-dac2-3bdddd73743f"
      },
      "execution_count": null,
      "outputs": [
        {
          "output_type": "stream",
          "name": "stdout",
          "text": [
            "30\n",
            "10 20\n",
            "<class 'int'>\n",
            "<class 'str'>\n",
            "1020\n",
            "10 20\n"
          ]
        }
      ]
    },
    {
      "cell_type": "markdown",
      "source": [
        "#나눗셈"
      ],
      "metadata": {
        "id": "ygkZhiJtvjl6"
      }
    },
    {
      "cell_type": "code",
      "source": [
        " a = 10\n",
        " b= 3\n",
        " c= a/b\n",
        " d= a // b #몫\n",
        " e= a % b  #나머지\n",
        " print(c,d,e)\n",
        " "
      ],
      "metadata": {
        "colab": {
          "base_uri": "https://localhost:8080/"
        },
        "id": "tRro5PxIqW6-",
        "outputId": "e953cd7f-0b0c-4205-face-62e2164f75df"
      },
      "execution_count": null,
      "outputs": [
        {
          "output_type": "stream",
          "name": "stdout",
          "text": [
            "3.3333333333333335 3 1\n"
          ]
        }
      ]
    },
    {
      "cell_type": "markdown",
      "source": [
        "#곱셈"
      ],
      "metadata": {
        "id": "WOL1XxDyvqg6"
      }
    },
    {
      "cell_type": "code",
      "source": [
        " a=10\n",
        " b = 2\n",
        " c = a * b # 곱하기\n",
        " d= a**b #제곱\n",
        " print(c,d)"
      ],
      "metadata": {
        "colab": {
          "base_uri": "https://localhost:8080/"
        },
        "id": "vEe4ApR9rJfH",
        "outputId": "043a85f0-2f17-4eb4-fd35-adac00d35d5d"
      },
      "execution_count": null,
      "outputs": [
        {
          "output_type": "stream",
          "name": "stdout",
          "text": [
            "20 100\n"
          ]
        }
      ]
    },
    {
      "cell_type": "markdown",
      "source": [
        "#### 문자열\n",
        "1. 큰따음표 : \"Lang Choi\"\n",
        "2. 작은 따음표 : 'Lang Choi'\n",
        "3. 큰따음표 3개 : \"\"\"대한민국\"\"\"\n",
        "4. 작은따음표 3개 : '''대한민국'''\n",
        "5. \"동해물과 백두산이 마르고 닳도록\n",
        " Choi's\"\n"
      ],
      "metadata": {
        "id": "O-J0UpmsrkA6"
      }
    },
    {
      "cell_type": "markdown",
      "source": [
        "#변수"
      ],
      "metadata": {
        "id": "Os0hOC77vxVQ"
      }
    },
    {
      "cell_type": "code",
      "source": [
        " myName = \"Choi young jun\"\n",
        " my_name = \" 최영준 \"\n",
        " _my_name = \"korea\"\n",
        " MYNAME= \"코리아\"\n",
        " my2name = \"kikiki\"\n",
        "# 2myname = \"하하하\"\n",
        "# my-name = \"가나다라\"\n",
        "# my name = \"스페이스\"\n",
        " myName1= 1234\n",
        " myName2 = \"1234\"\n",
        " print (type( myName1 ))\n",
        " print (type( myName2 ))\n"
      ],
      "metadata": {
        "colab": {
          "base_uri": "https://localhost:8080/"
        },
        "id": "ILrcxvvrtREX",
        "outputId": "6aaeee5b-be47-4d2c-e0ec-eab92dac6522"
      },
      "execution_count": null,
      "outputs": [
        {
          "output_type": "stream",
          "name": "stdout",
          "text": [
            "<class 'int'>\n",
            "<class 'str'>\n"
          ]
        }
      ]
    },
    {
      "cell_type": "markdown",
      "source": [
        "#### 변수할당\n"
      ],
      "metadata": {
        "id": "pvgw57lKuugi"
      }
    },
    {
      "cell_type": "code",
      "source": [
        " a=b=c= \"브라보콘\"\n",
        " print(a)\n",
        " print(b)\n",
        " print(c)\n",
        " "
      ],
      "metadata": {
        "colab": {
          "base_uri": "https://localhost:8080/"
        },
        "id": "Yu1ujGLXu4De",
        "outputId": "ca052955-bdb3-4b24-9f3b-bf2b5156dd98"
      },
      "execution_count": null,
      "outputs": [
        {
          "output_type": "stream",
          "name": "stdout",
          "text": [
            "브라보콘\n",
            "브라보콘\n",
            "브라보콘\n"
          ]
        }
      ]
    },
    {
      "cell_type": "code",
      "source": [
        "x,y,z = \"딸기\",\"포도\",\"바나나\"\n",
        "print(x)\n",
        "print(y)\n",
        "print(z)"
      ],
      "metadata": {
        "colab": {
          "base_uri": "https://localhost:8080/"
        },
        "id": "kVk-Ciq9vJrG",
        "outputId": "39242b79-3751-412b-f001-599603744d5f"
      },
      "execution_count": 5,
      "outputs": [
        {
          "output_type": "stream",
          "name": "stdout",
          "text": [
            "딸기\n",
            "포도\n",
            "바나나\n"
          ]
        }
      ]
    },
    {
      "cell_type": "code",
      "source": [
        "fruits = [\"누가바\",\"쌍쌍바\", \"보석바\"]\n",
        "x,y,z = fruits\n",
        "print(x)\n",
        "print(y)\n",
        "print(z)"
      ],
      "metadata": {
        "colab": {
          "base_uri": "https://localhost:8080/"
        },
        "id": "aytLYYwov1tz",
        "outputId": "a59248b6-6be5-4bea-e4c1-138b4adc5fbb"
      },
      "execution_count": null,
      "outputs": [
        {
          "output_type": "stream",
          "name": "stdout",
          "text": [
            "누가바\n",
            "쌍쌍바\n",
            "보석바\n"
          ]
        }
      ]
    },
    {
      "cell_type": "code",
      "source": [
        "x =\"Life\"\n",
        "y =\"is\"\n",
        "z =\"beautifull!\"\n",
        "print(x,y,z,)\n",
        "print(x+y+z)"
      ],
      "metadata": {
        "colab": {
          "base_uri": "https://localhost:8080/"
        },
        "id": "a1C2xjCYwd7e",
        "outputId": "3a093396-03a8-4a24-a61e-20eb65d2af2d"
      },
      "execution_count": null,
      "outputs": [
        {
          "output_type": "stream",
          "name": "stdout",
          "text": [
            "Life is beautifull!\n",
            "Lifeisbeautifull!\n"
          ]
        }
      ]
    },
    {
      "cell_type": "code",
      "source": [
        "a =\"1\"\n",
        "b =\"2\"\n",
        "c =\"3\"\n",
        "print(a,b,c,)\n",
        "print(a+b+c)\n",
        "\n",
        "e= 5\n",
        "f=6 \n",
        "print(e+f)"
      ],
      "metadata": {
        "colab": {
          "base_uri": "https://localhost:8080/"
        },
        "id": "K65QOInCxGpH",
        "outputId": "aa46b470-973b-4ba2-9ad8-137f471b912e"
      },
      "execution_count": null,
      "outputs": [
        {
          "output_type": "stream",
          "name": "stdout",
          "text": [
            "1 2 3\n",
            "123\n",
            "11\n"
          ]
        }
      ]
    },
    {
      "cell_type": "markdown",
      "source": [
        "데이터 바꾸기"
      ],
      "metadata": {
        "id": "BUHAyu3k75ha"
      }
    },
    {
      "cell_type": "code",
      "source": [
        "  a = 1;b = 2\n",
        "  a,b =  b,a\n",
        "  print(a,b)"
      ],
      "metadata": {
        "colab": {
          "base_uri": "https://localhost:8080/"
        },
        "id": "3ssByzhs79J3",
        "outputId": "c49a746a-befd-4152-cf1c-11fd80a18c20"
      },
      "execution_count": null,
      "outputs": [
        {
          "output_type": "stream",
          "name": "stdout",
          "text": [
            "2 1\n"
          ]
        }
      ]
    },
    {
      "cell_type": "code",
      "source": [
        "b=2;c =3\n",
        "#c= (b=b+c)#error"
      ],
      "metadata": {
        "id": "TTR-avq88U9y"
      },
      "execution_count": null,
      "outputs": []
    },
    {
      "cell_type": "code",
      "source": [
        "a=1;b=2;c=3\n",
        "f=a+b+\\\n",
        "c\n",
        "print(f)"
      ],
      "metadata": {
        "colab": {
          "base_uri": "https://localhost:8080/"
        },
        "id": "qMOM-6zC8mNC",
        "outputId": "320ea06a-e922-4ee1-933a-1c91846e5fbe"
      },
      "execution_count": null,
      "outputs": [
        {
          "output_type": "stream",
          "name": "stdout",
          "text": [
            "6\n"
          ]
        }
      ]
    },
    {
      "cell_type": "code",
      "source": [
        " # len()\n",
        " a=\"123456\"\n",
        " b=[2,3,4,5]\n",
        " print(len(a))\n",
        " print(len(b))"
      ],
      "metadata": {
        "colab": {
          "base_uri": "https://localhost:8080/"
        },
        "id": "2l2L4VSa88wX",
        "outputId": "d5f51000-c7c0-4f04-ce46-a078d66ba4c2"
      },
      "execution_count": 6,
      "outputs": [
        {
          "output_type": "stream",
          "name": "stdout",
          "text": [
            "6\n",
            "4\n"
          ]
        }
      ]
    },
    {
      "cell_type": "markdown",
      "source": [
        "계산기"
      ],
      "metadata": {
        "id": "vD3bXGaR9buG"
      }
    },
    {
      "cell_type": "code",
      "source": [
        " a=100\n",
        " b=200\n",
        " result =a+b\n",
        " print(a,'+',b,'=',result)\n",
        " result= a - b\n",
        " print(a,'-',b,'=',result)\n",
        " result= a / b\n",
        " print(a,'/',b,'=',result)\n",
        " result= a * b\n",
        " print(a,'*',b,'=',result)"
      ],
      "metadata": {
        "colab": {
          "base_uri": "https://localhost:8080/"
        },
        "id": "Sf3DiV3W9dt4",
        "outputId": "3c7b9318-be32-4dc3-ec11-77a3805b3afc"
      },
      "execution_count": null,
      "outputs": [
        {
          "output_type": "stream",
          "name": "stdout",
          "text": [
            "100 + 200 = 300\n",
            "100 - 200 = -100\n",
            "100 / 200 = 0.5\n",
            "100 * 200 = 20000\n"
          ]
        }
      ]
    },
    {
      "cell_type": "code",
      "source": [
        "a = \"1234\"\n",
        "b = 5678\n",
        "c = int(a)+b\n",
        "print(c)"
      ],
      "metadata": {
        "colab": {
          "base_uri": "https://localhost:8080/"
        },
        "id": "DCo3ingfAntL",
        "outputId": "dfa0ba9e-f3f6-4846-a48e-c56ec127ef99"
      },
      "execution_count": null,
      "outputs": [
        {
          "output_type": "stream",
          "name": "stdout",
          "text": [
            "6912\n"
          ]
        }
      ]
    },
    {
      "cell_type": "code",
      "source": [
        "# 계산기 2\n",
        "num1 = int(input(\"숫자입력1: \"))\n",
        "num2 = int(input(\"숫자입력2: \"))\n",
        "print(type(num1))\n",
        "result = num1 + num2\n",
        "print(result)"
      ],
      "metadata": {
        "colab": {
          "base_uri": "https://localhost:8080/"
        },
        "id": "D2tspebsA_lH",
        "outputId": "773776c0-cfb1-4d2a-c9b2-77067592a7fc"
      },
      "execution_count": null,
      "outputs": [
        {
          "output_type": "stream",
          "name": "stdout",
          "text": [
            "숫자입력1: 1\n",
            "숫자입력2: 2\n",
            "<class 'int'>\n",
            "3\n"
          ]
        }
      ]
    },
    {
      "cell_type": "code",
      "source": [
        "num1 = int(input(\"숫자입력1: \"))\n",
        "num2 = int(input(\"숫자입력2:\"))\n",
        "a=int(num1)\n",
        "b=int(num2)\n",
        "result = a + b\n",
        "print(a,'+',b,'=',result)\n",
        "result= a - b\n",
        "print(a,'-',b,'=',result)\n",
        "result= a / b\n",
        "print(a,'/',b,'=',result)\n",
        "result= a * b\n",
        "print(a,'*',b,'=',result)"
      ],
      "metadata": {
        "colab": {
          "base_uri": "https://localhost:8080/"
        },
        "id": "AgtT0xmYB-1c",
        "outputId": "9636de77-454f-4bef-8e73-145d7a07b8f8"
      },
      "execution_count": 4,
      "outputs": [
        {
          "output_type": "stream",
          "name": "stdout",
          "text": [
            "숫자입력1: 1\n",
            "숫자입력2:1\n",
            "1 + 1 = 2\n",
            "1 - 1 = 0\n",
            "1 / 1 = 1.0\n",
            "1 * 1 = 1\n"
          ]
        }
      ]
    },
    {
      "cell_type": "code",
      "source": [
        "#자기이름, 전화번호, 택배 x 100\n",
        "name = input(\"이름: \")\n",
        "result = name\n",
        "number = input(\"전화번호: \")\n",
        "result = number\n",
        "num1 = input(\"택배(g)x100: \")\n",
        "a = int(num1)\n",
        "result =int(num1)*100  \n",
        "print(\"결과값 =\", a,\"X 100원 =\",result,\"원 입니다.\")\n"
      ],
      "metadata": {
        "colab": {
          "base_uri": "https://localhost:8080/"
        },
        "id": "3SmesRcJKLz8",
        "outputId": "a57b068a-2c51-4388-c56e-2a4273471cdc"
      },
      "execution_count": 9,
      "outputs": [
        {
          "output_type": "stream",
          "name": "stdout",
          "text": [
            "이름: 최영준\n",
            "전화번호: 01046089209\n",
            "택배(g)x100: 5000\n",
            "결과값 = 5000 X 100원 = 500000 원 입니다.\n"
          ]
        }
      ]
    }
  ]
}